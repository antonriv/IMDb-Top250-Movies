{
 "cells": [
  {
   "cell_type": "markdown",
   "id": "eab03ad4-9464-482b-806f-e8e96339cdd0",
   "metadata": {},
   "source": [
    "# Transform Load"
   ]
  },
  {
   "cell_type": "markdown",
   "id": "b31f0ad8-12aa-4900-b11e-1c2f4c97bf9e",
   "metadata": {},
   "source": [
    "Combine and preprocess data from multiple sources and store in parquet format"
   ]
  },
  {
   "cell_type": "code",
   "execution_count": 1,
   "id": "54f1fbaa-b7b0-4933-a1db-1c550d9d0918",
   "metadata": {},
   "outputs": [],
   "source": [
    "# Libraries used\n",
    "import pandas as pd"
   ]
  },
  {
   "cell_type": "markdown",
   "id": "43b31286-6e0d-4989-92a4-9e2481ac3e49",
   "metadata": {},
   "source": [
    "# t_movies"
   ]
  },
  {
   "cell_type": "code",
   "execution_count": 2,
   "id": "4510e043-4142-4cd7-972a-c5020b121247",
   "metadata": {},
   "outputs": [],
   "source": [
    "movies = pd.read_csv('staging/movies.csv', header=None)"
   ]
  },
  {
   "cell_type": "code",
   "execution_count": 3,
   "id": "175398ce-91b2-487a-bc60-2c5c7075fb49",
   "metadata": {},
   "outputs": [],
   "source": [
    "# Set column and index names\n",
    "movies.columns = ['title', 'rating', 'popularity']\n",
    "movies.index = range(1,251)\n",
    "movies.index.name = 'movie_id'\n",
    "\n",
    "# Set column types for 'title' and 'rating'\n",
    "movies['title'] = movies['title'].astype('string')\n",
    "movies['rating'] = movies['rating'].astype('float')\n",
    "\n",
    "# Get rid of commas ',' in the 'popularity' data, and set column type to int\n",
    "movies['popularity'] = pd.Series(map(lambda x: int(x.replace(',','')), movies['popularity']), index=movies.index)"
   ]
  },
  {
   "cell_type": "code",
   "execution_count": 4,
   "id": "3044406e-1213-451e-a8df-bca419cc8eaf",
   "metadata": {},
   "outputs": [
    {
     "name": "stdout",
     "output_type": "stream",
     "text": [
      "                             title  rating  popularity\n",
      "movie_id                                              \n",
      "1         The Shawshank Redemption     9.3          71\n",
      "2                    The Godfather     9.2          68\n",
      "3                  The Dark Knight     9.0         107\n",
      "4            The Godfather Part II     9.0         245\n",
      "5                     12 Angry Men     9.0         276\n",
      "...                            ...     ...         ...\n",
      "246                       The Help     8.1          97\n",
      "247                    Dersu Uzala     8.2          97\n",
      "248                        Aladdin     8.0        1046\n",
      "249             Dances with Wolves     8.0         924\n",
      "250                         Gandhi     8.0        1809\n",
      "\n",
      "[250 rows x 3 columns]\n",
      "\n",
      "SCHEMA of movies\n",
      "\n",
      "<class 'pandas.core.frame.DataFrame'>\n",
      "RangeIndex: 250 entries, 1 to 250\n",
      "Data columns (total 3 columns):\n",
      " #   Column      Non-Null Count  Dtype  \n",
      "---  ------      --------------  -----  \n",
      " 0   title       250 non-null    string \n",
      " 1   rating      250 non-null    float64\n",
      " 2   popularity  250 non-null    int64  \n",
      "dtypes: float64(1), int64(1), string(1)\n",
      "memory usage: 6.0 KB\n",
      "None\n"
     ]
    }
   ],
   "source": [
    "print(movies)\n",
    "print('\\nSCHEMA of movies\\n')\n",
    "print(movies.info())"
   ]
  },
  {
   "cell_type": "markdown",
   "id": "964cddb4-610a-4a03-82ad-5d8ed3c9abbf",
   "metadata": {},
   "source": [
    "**Store Parquet**"
   ]
  },
  {
   "cell_type": "code",
   "execution_count": 5,
   "id": "80245879-d924-4be7-b9e9-7e655f194170",
   "metadata": {},
   "outputs": [],
   "source": [
    "movies.to_parquet('master/t_movies.parquet', index=True)"
   ]
  },
  {
   "cell_type": "markdown",
   "id": "d5c7dc3c-3eee-417a-995c-8df8d329cc22",
   "metadata": {},
   "source": [
    "# t_genres"
   ]
  },
  {
   "cell_type": "code",
   "execution_count": 6,
   "id": "38539a26-a590-47e0-ad6e-96c48fb88607",
   "metadata": {},
   "outputs": [],
   "source": [
    "genres = pd.read_csv('staging/genres.csv', header=None)"
   ]
  },
  {
   "cell_type": "code",
   "execution_count": 7,
   "id": "9141bdbb-6a63-4f54-b4c7-cf7aaaa74d99",
   "metadata": {},
   "outputs": [],
   "source": [
    "# Create table and set column name for genres\n",
    "genres = pd.DataFrame({'genre': [l for l in genres.iloc[:,0]]})\n",
    "\n",
    "# Set index name\n",
    "genres.index = range(1,251)\n",
    "genres.index.name = 'movie_id'\n",
    "\n",
    "# Transform column 'genre' from string to list\n",
    "genres['genre'] = pd.Series(map(lambda x : x.strip('\\'][\\'').split('\\', \\''), genres['genre']), index=genres.index)\n",
    "\n",
    "# Unpack values from the column 'genres'\n",
    "genres = genres.explode('genre')\n",
    "\n",
    "# Set 'genre' column type to string\n",
    "genres['genre'] = genres['genre'].astype('string')"
   ]
  },
  {
   "cell_type": "code",
   "execution_count": 8,
   "id": "b5d9221e-acd7-4a38-8248-36a3d9586cc7",
   "metadata": {},
   "outputs": [
    {
     "name": "stdout",
     "output_type": "stream",
     "text": [
      "              genre\n",
      "movie_id           \n",
      "1             Drama\n",
      "2             Crime\n",
      "2             Drama\n",
      "3            Action\n",
      "3             Crime\n",
      "...             ...\n",
      "249           Drama\n",
      "249         Western\n",
      "250       Biography\n",
      "250           Drama\n",
      "250         History\n",
      "\n",
      "[626 rows x 1 columns]\n",
      "\n",
      "SCHEMA of genres\n",
      "\n",
      "<class 'pandas.core.frame.DataFrame'>\n",
      "Int64Index: 626 entries, 1 to 250\n",
      "Data columns (total 1 columns):\n",
      " #   Column  Non-Null Count  Dtype \n",
      "---  ------  --------------  ----- \n",
      " 0   genre   626 non-null    string\n",
      "dtypes: string(1)\n",
      "memory usage: 9.8 KB\n",
      "None\n"
     ]
    }
   ],
   "source": [
    "print(genres)\n",
    "print('\\nSCHEMA of genres\\n')\n",
    "print(genres.info())"
   ]
  },
  {
   "cell_type": "markdown",
   "id": "fa8efcb5-ed8e-4438-b126-fa29b5fda845",
   "metadata": {},
   "source": [
    "**Store Parquet**"
   ]
  },
  {
   "cell_type": "code",
   "execution_count": 9,
   "id": "84b9873d-cef0-471d-b194-19218d7667ea",
   "metadata": {},
   "outputs": [],
   "source": [
    "genres.to_parquet('master/t_genres.parquet', index=True)"
   ]
  },
  {
   "cell_type": "markdown",
   "id": "17b05380-3d3a-4f23-b31b-9d46acf58204",
   "metadata": {},
   "source": [
    "# t_actors"
   ]
  },
  {
   "cell_type": "code",
   "execution_count": 10,
   "id": "4b3c4565-d906-4242-8e12-9c58d16f85d1",
   "metadata": {},
   "outputs": [],
   "source": [
    "actors = pd.read_csv('staging/actors.csv', header=None)"
   ]
  },
  {
   "cell_type": "code",
   "execution_count": 11,
   "id": "c6f107c8-3f20-48f6-8c48-fd8a8bc692ad",
   "metadata": {},
   "outputs": [],
   "source": [
    "# Create table and set column name for actors\n",
    "actors = pd.DataFrame({'actor': [l for l in actors.iloc[:,0]]})\n",
    "\n",
    "# Set index name\n",
    "actors.index = range(1,251)\n",
    "actors.index.name = 'movie_id'\n",
    "\n",
    "# Transform column 'actor' from string to list\n",
    "actors['actor'] = pd.Series(map(lambda x : x.strip('\\'][\\'').split('\\', \\''), actors['actor']), index=actors.index)\n",
    "\n",
    "# Unpack values from the column 'actor'\n",
    "actors = actors.explode('actor')\n",
    "\n",
    "# Set column type to string\n",
    "actors = actors.astype('string')"
   ]
  },
  {
   "cell_type": "code",
   "execution_count": 12,
   "id": "511c5649-3b6a-428d-a75b-5be381d8822c",
   "metadata": {},
   "outputs": [
    {
     "name": "stdout",
     "output_type": "stream",
     "text": [
      "                    actor\n",
      "movie_id                 \n",
      "1             Tim Robbins\n",
      "1          Morgan Freeman\n",
      "1              Bob Gunton\n",
      "1          William Sadler\n",
      "1            Clancy Brown\n",
      "...                   ...\n",
      "250       Geraldine James\n",
      "250       Alyque Padamsee\n",
      "250           Amrish Puri\n",
      "250            Ian Bannen\n",
      "250        Michael Bryant\n",
      "\n",
      "[4360 rows x 1 columns]\n",
      "\n",
      "SCHEMA of actors\n",
      "\n",
      "<class 'pandas.core.frame.DataFrame'>\n",
      "Int64Index: 4360 entries, 1 to 250\n",
      "Data columns (total 1 columns):\n",
      " #   Column  Non-Null Count  Dtype \n",
      "---  ------  --------------  ----- \n",
      " 0   actor   4360 non-null   string\n",
      "dtypes: string(1)\n",
      "memory usage: 68.1 KB\n",
      "None\n"
     ]
    }
   ],
   "source": [
    "print(actors)\n",
    "print('\\nSCHEMA of actors\\n')\n",
    "print(actors.info())"
   ]
  },
  {
   "cell_type": "markdown",
   "id": "b6efb0f4-6932-453a-99b0-0eb382bf7a65",
   "metadata": {},
   "source": [
    "**Store Parquet**"
   ]
  },
  {
   "cell_type": "code",
   "execution_count": 13,
   "id": "3436729d-3b4e-41f3-ac90-088c5a3f5852",
   "metadata": {},
   "outputs": [],
   "source": [
    "actors.to_parquet('master/t_actors.parquet', index=True)"
   ]
  },
  {
   "cell_type": "markdown",
   "id": "c43121e7-7e0b-48ca-996f-8c5a80b01cc3",
   "metadata": {},
   "source": [
    "# t_writers"
   ]
  },
  {
   "cell_type": "code",
   "execution_count": 14,
   "id": "30aa65c3-ca4d-485b-b56e-8ccf743c9490",
   "metadata": {},
   "outputs": [],
   "source": [
    "writers = pd.read_csv('staging/writers.csv', header=None)"
   ]
  },
  {
   "cell_type": "code",
   "execution_count": 15,
   "id": "ba3e5fde-a8c7-4471-a382-7d72b6b5c3bf",
   "metadata": {},
   "outputs": [],
   "source": [
    "# Create table and set column name for writers\n",
    "writers = pd.DataFrame({'writer': [l for l in writers.iloc[:,0]]})\n",
    "\n",
    "# Set index name\n",
    "writers.index = range(1,251)\n",
    "writers.index.name = 'movie_id'\n",
    "\n",
    "# Transform column 'writer' from string to list\n",
    "writers['writer'] = pd.Series(map(lambda x : x.strip('\\'][\\'').split('\\', \\''), writers['writer']), index=writers.index)\n",
    "\n",
    "# Unpack values from the column 'writer'\n",
    "writers = writers.explode('writer')\n",
    "\n",
    "# Set column type to string\n",
    "writers = writers.astype('string')"
   ]
  },
  {
   "cell_type": "code",
   "execution_count": 16,
   "id": "9cb5ca4f-7f02-4536-afaf-155d4b56fe05",
   "metadata": {},
   "outputs": [
    {
     "name": "stdout",
     "output_type": "stream",
     "text": [
      "                        writer\n",
      "movie_id                      \n",
      "1                 Stephen King\n",
      "1               Frank Darabont\n",
      "2                   Mario Puzo\n",
      "2         Francis Ford Coppola\n",
      "3                   Mario Puzo\n",
      "...                        ...\n",
      "248             Akira Kurosawa\n",
      "248              Yuriy Nagibin\n",
      "248           Vladimir Arsenev\n",
      "249              Michael Blake\n",
      "250                John Briley\n",
      "\n",
      "[486 rows x 1 columns]\n",
      "\n",
      "SCHEMA of writers\n",
      "\n",
      "<class 'pandas.core.frame.DataFrame'>\n",
      "Int64Index: 486 entries, 1 to 250\n",
      "Data columns (total 1 columns):\n",
      " #   Column  Non-Null Count  Dtype \n",
      "---  ------  --------------  ----- \n",
      " 0   writer  486 non-null    string\n",
      "dtypes: string(1)\n",
      "memory usage: 7.6 KB\n",
      "None\n"
     ]
    }
   ],
   "source": [
    "print(writers)\n",
    "print('\\nSCHEMA of writers\\n')\n",
    "print(writers.info())"
   ]
  },
  {
   "cell_type": "markdown",
   "id": "30432509-11b7-4e7c-aee5-b4ffcac9eaeb",
   "metadata": {},
   "source": [
    "**Store Parquet**"
   ]
  },
  {
   "cell_type": "code",
   "execution_count": 17,
   "id": "c313455b-4249-46ef-a61c-71f51068d1ab",
   "metadata": {},
   "outputs": [],
   "source": [
    "writers.to_parquet('master/t_writers.parquet', index=True)"
   ]
  },
  {
   "cell_type": "markdown",
   "id": "2fe7f753-bce1-4bc8-912c-3df7508c9b65",
   "metadata": {},
   "source": [
    "# t_directors"
   ]
  },
  {
   "cell_type": "code",
   "execution_count": 18,
   "id": "7f922cf4-47f2-4b0d-8c29-e2fbd4c485cb",
   "metadata": {},
   "outputs": [],
   "source": [
    "directors = pd.read_csv('staging/directors.csv', header=None)"
   ]
  },
  {
   "cell_type": "code",
   "execution_count": 19,
   "id": "379bf716-a1f0-4fc0-998f-842aafb24e49",
   "metadata": {},
   "outputs": [],
   "source": [
    "# Create table and set column name for directors\n",
    "directors = pd.DataFrame({'director': [l for l in directors.iloc[:,0]]})\n",
    "\n",
    "# Set index name\n",
    "directors.index = range(1,251)\n",
    "directors.index.name = 'movie_id'\n",
    "\n",
    "# Transform column 'director' from string to list\n",
    "directors['director'] = pd.Series(map(lambda x : x.strip('\\'][\\'').split('\\', \\''), directors['director']), index=directors.index)\n",
    "\n",
    "# Unpack values from the column 'director'\n",
    "directors = directors.explode('director')\n",
    "\n",
    "# Set column type to string\n",
    "directors = directors.astype('string')"
   ]
  },
  {
   "cell_type": "code",
   "execution_count": 20,
   "id": "4f1d60f6-c760-484a-8d78-287f33793a2a",
   "metadata": {},
   "outputs": [
    {
     "name": "stdout",
     "output_type": "stream",
     "text": [
      "                      director\n",
      "movie_id                      \n",
      "1               Frank Darabont\n",
      "2         Francis Ford Coppola\n",
      "3            Christopher Nolan\n",
      "4         Francis Ford Coppola\n",
      "5                 Sidney Lumet\n",
      "...                        ...\n",
      "247             Akira Kurosawa\n",
      "248               Ron Clements\n",
      "248                John Musker\n",
      "249              Kevin Costner\n",
      "250       Richard Attenborough\n",
      "\n",
      "[277 rows x 1 columns]\n",
      "\n",
      "SCHEMA of directors\n",
      "\n",
      "<class 'pandas.core.frame.DataFrame'>\n",
      "Int64Index: 277 entries, 1 to 250\n",
      "Data columns (total 1 columns):\n",
      " #   Column    Non-Null Count  Dtype \n",
      "---  ------    --------------  ----- \n",
      " 0   director  277 non-null    string\n",
      "dtypes: string(1)\n",
      "memory usage: 4.3 KB\n",
      "None\n"
     ]
    }
   ],
   "source": [
    "print(directors)\n",
    "print('\\nSCHEMA of directors\\n')\n",
    "print(directors.info())"
   ]
  },
  {
   "cell_type": "markdown",
   "id": "26c6f1ae-8ac1-45a5-8a39-ce38656bab22",
   "metadata": {},
   "source": [
    "**Store Parquet**"
   ]
  },
  {
   "cell_type": "code",
   "execution_count": 21,
   "id": "32181c07-2a16-4d07-8b89-1c872b1c95ad",
   "metadata": {},
   "outputs": [],
   "source": [
    "directors.to_parquet('master/t_directors.parquet', index=True)"
   ]
  },
  {
   "cell_type": "markdown",
   "id": "75aa2224-4240-4f36-8958-bcac1b2542d8",
   "metadata": {},
   "source": [
    "# t_reviews"
   ]
  },
  {
   "cell_type": "code",
   "execution_count": 22,
   "id": "ae31fe07-d017-43cd-ace2-5bd7b46acbce",
   "metadata": {},
   "outputs": [],
   "source": [
    "reviews = pd.read_csv('staging/reviews.csv', header=None)"
   ]
  },
  {
   "cell_type": "code",
   "execution_count": 23,
   "id": "97793c65-9f1a-46f6-927a-91a456070129",
   "metadata": {},
   "outputs": [],
   "source": [
    "# Trim square braces and quotes at the begining and end of the reviews\n",
    "reviews = pd.DataFrame({'review': [s[2:-2] for s in reviews.iloc[:,0]]})\n",
    "\n",
    "# Set index name\n",
    "reviews.index = range(1,251)\n",
    "reviews.index.name = 'movie_id'\n",
    "\n",
    "# Set column type to string\n",
    "reviews = reviews.astype('string')"
   ]
  },
  {
   "cell_type": "code",
   "execution_count": 24,
   "id": "745977c3-d4d2-48b8-a391-ccb322681027",
   "metadata": {},
   "outputs": [
    {
     "name": "stdout",
     "output_type": "stream",
     "text": [
      "                                                     review\n",
      "movie_id                                                   \n",
      "1         I've lost count of the number of times I have ...\n",
      "2         This isn't just a beautifully crafted gangster...\n",
      "3         Best movie ever. Heath ledger's work is phenom...\n",
      "4         Francis Coppola and Mario Puzo continue their ...\n",
      "5         '12 Angry Men' is an outstanding film. It is p...\n",
      "...                                                     ...\n",
      "246       I just returned from seeing a special preview ...\n",
      "247       For a variety of reasons (that are well known ...\n",
      "248       This movie has three elements that are importa...\n",
      "249       `Dances With Wolves'When I first saw the movie...\n",
      "250       As soon as I finished watching Gandhi, I thoug...\n",
      "\n",
      "[250 rows x 1 columns]\n",
      "\n",
      "SCHEMA of reviews\n",
      "\n",
      "<class 'pandas.core.frame.DataFrame'>\n",
      "RangeIndex: 250 entries, 1 to 250\n",
      "Data columns (total 1 columns):\n",
      " #   Column  Non-Null Count  Dtype \n",
      "---  ------  --------------  ----- \n",
      " 0   review  250 non-null    string\n",
      "dtypes: string(1)\n",
      "memory usage: 2.1 KB\n",
      "None\n"
     ]
    }
   ],
   "source": [
    "print(reviews)\n",
    "print('\\nSCHEMA of reviews\\n')\n",
    "print(reviews.info())"
   ]
  },
  {
   "cell_type": "markdown",
   "id": "b93d9dfc-8aef-430e-8688-9ae33c901854",
   "metadata": {},
   "source": [
    "**Store Parquet**"
   ]
  },
  {
   "cell_type": "code",
   "execution_count": 25,
   "id": "58d7d991-806f-400a-be99-c3d920af555a",
   "metadata": {},
   "outputs": [],
   "source": [
    "reviews.to_parquet('master/t_reviews.parquet', index=True)"
   ]
  }
 ],
 "metadata": {
  "kernelspec": {
   "display_name": "Python 3 (ipykernel)",
   "language": "python",
   "name": "python3"
  },
  "language_info": {
   "codemirror_mode": {
    "name": "ipython",
    "version": 3
   },
   "file_extension": ".py",
   "mimetype": "text/x-python",
   "name": "python",
   "nbconvert_exporter": "python",
   "pygments_lexer": "ipython3",
   "version": "3.10.5"
  }
 },
 "nbformat": 4,
 "nbformat_minor": 5
}
