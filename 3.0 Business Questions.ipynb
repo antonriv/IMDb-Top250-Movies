{
 "cells": [
  {
   "cell_type": "markdown",
   "id": "8745f80d-6f81-4768-83a7-d881eda0bc66",
   "metadata": {},
   "source": [
    "# Bussiness Questions"
   ]
  },
  {
   "cell_type": "markdown",
   "id": "8e91aa76-d5a3-433d-9e37-eaf7cb71ad5a",
   "metadata": {},
   "source": [
    "Bussiness Questions (BQ) answered with the generated tables: \n",
    "\n",
    "\n",
    "**BQ1.** Average popularity and IMDb rating for each genre found with counts.  \n",
    "**BQ2.** Top 5 movie actors with the best popularity and rating.  \n",
    "**BQ3.** Top 5 movie actors with the worst popularity and rating.  \n",
    "**BQ4.** Top 5 movie directors with the best popularity and rating.  \n",
    "**BQ5.** Top 5 movie directors with the worst popularity and rating.  \n",
    "**BQ6.** Top 5 most common pairs of actors and directors, e.g. (Tim burton - Jhony Deep).  \n",
    "**BQ7.** Top 5 most common pairs of actors, e.g. (Al Pacino - Robert de Niro).  \n",
    "**BQ8.** Best actors and directors for each genre (use preferred metric and explain the choice).  "
   ]
  },
  {
   "cell_type": "code",
   "execution_count": 1,
   "id": "6c8647b7-3d54-4df5-931a-30404ea89d54",
   "metadata": {},
   "outputs": [],
   "source": [
    "# Libraries used\n",
    "import findspark\n",
    "findspark.init()\n",
    "\n",
    "import pyspark\n",
    "from pyspark.sql import SparkSession"
   ]
  },
  {
   "cell_type": "code",
   "execution_count": 2,
   "id": "9b0810c4-bb46-4601-a7d8-33d5cacdb56b",
   "metadata": {},
   "outputs": [],
   "source": [
    "# Create a Spark Session\n",
    "spark = SparkSession.builder.appName('Challenge').getOrCreate()"
   ]
  },
  {
   "cell_type": "markdown",
   "id": "8ad58d93-7f35-4fc4-a80a-f46454342f4c",
   "metadata": {},
   "source": [
    "# Read Parquet tables into Spark Data Frames"
   ]
  },
  {
   "cell_type": "markdown",
   "id": "b546f805-fe84-4873-b6f1-c11b48e6f2d2",
   "metadata": {},
   "source": [
    "### t_movies"
   ]
  },
  {
   "cell_type": "code",
   "execution_count": 3,
   "id": "fb5ec1b2-67a1-4f1a-b841-ce5099b4be08",
   "metadata": {},
   "outputs": [
    {
     "name": "stdout",
     "output_type": "stream",
     "text": [
      "root\n",
      " |-- movie_id: string (nullable = true)\n",
      " |-- title: string (nullable = true)\n",
      " |-- rating: double (nullable = true)\n",
      " |-- popularity: integer (nullable = true)\n",
      "\n",
      "+--------+--------------------+------+----------+\n",
      "|movie_id|               title|rating|popularity|\n",
      "+--------+--------------------+------+----------+\n",
      "|       1|The Shawshank Red...|   9.3|        71|\n",
      "|       2|       The Godfather|   9.2|        68|\n",
      "|       3|     The Dark Knight|   9.0|       107|\n",
      "|       4|The Godfather Par...|   9.0|       245|\n",
      "|       5|        12 Angry Men|   9.0|       276|\n",
      "+--------+--------------------+------+----------+\n",
      "only showing top 5 rows\n",
      "\n"
     ]
    }
   ],
   "source": [
    "# Read Parquet file into Data Frame\n",
    "t_movies = spark.read.option('header','true').parquet('master/t_movies.parquet')\n",
    "\n",
    "# Manually define Schema\n",
    "t_movies = t_movies.select(\n",
    "    t_movies.movie_id.cast('string'),\n",
    "    t_movies.title.cast('string'),\n",
    "    t_movies.rating.cast('double'),\n",
    "    t_movies.popularity.cast('int')\n",
    ")\n",
    "\n",
    "t_movies.printSchema()\n",
    "t_movies.show(5)"
   ]
  },
  {
   "cell_type": "markdown",
   "id": "7d5281ac-7a4c-459a-899f-8837f771da25",
   "metadata": {},
   "source": [
    "### t_genres"
   ]
  },
  {
   "cell_type": "code",
   "execution_count": 4,
   "id": "bbdec18e-1096-416a-83bd-ee76e61316b4",
   "metadata": {},
   "outputs": [
    {
     "name": "stdout",
     "output_type": "stream",
     "text": [
      "root\n",
      " |-- movie_id: long (nullable = true)\n",
      " |-- genre: string (nullable = true)\n",
      "\n",
      "+--------+------+\n",
      "|movie_id| genre|\n",
      "+--------+------+\n",
      "|       1| Drama|\n",
      "|       2| Crime|\n",
      "|       2| Drama|\n",
      "|       3|Action|\n",
      "|       3| Crime|\n",
      "+--------+------+\n",
      "only showing top 5 rows\n",
      "\n"
     ]
    }
   ],
   "source": [
    "# t_genres\n",
    "t_genres = spark.read.parquet('master/t_genres.parquet', header=True)\n",
    "\n",
    "t_genres.printSchema()\n",
    "t_genres.show(5)"
   ]
  },
  {
   "cell_type": "markdown",
   "id": "eb052625-11b3-492a-a7e4-7535aaac7837",
   "metadata": {},
   "source": [
    "### t_actors"
   ]
  },
  {
   "cell_type": "code",
   "execution_count": 5,
   "id": "98c84051-378b-4e4c-b67d-866eea7a3dcb",
   "metadata": {},
   "outputs": [
    {
     "name": "stdout",
     "output_type": "stream",
     "text": [
      "root\n",
      " |-- movie_id: long (nullable = true)\n",
      " |-- actor: string (nullable = true)\n",
      "\n",
      "+--------+--------------+\n",
      "|movie_id|         actor|\n",
      "+--------+--------------+\n",
      "|       1|   Tim Robbins|\n",
      "|       1|Morgan Freeman|\n",
      "|       1|    Bob Gunton|\n",
      "|       1|William Sadler|\n",
      "|       1|  Clancy Brown|\n",
      "+--------+--------------+\n",
      "only showing top 5 rows\n",
      "\n"
     ]
    }
   ],
   "source": [
    "# t_actors\n",
    "t_actors = spark.read.parquet('master/t_actors.parquet', header=True)\n",
    "\n",
    "t_actors.printSchema()\n",
    "t_actors.show(5)"
   ]
  },
  {
   "cell_type": "markdown",
   "id": "79e88956-3139-485e-9683-ca5b419e25c3",
   "metadata": {},
   "source": [
    "### t_directors"
   ]
  },
  {
   "cell_type": "code",
   "execution_count": 6,
   "id": "b4c5edc8-a3c5-485e-aa55-49af1169f1c3",
   "metadata": {},
   "outputs": [
    {
     "name": "stdout",
     "output_type": "stream",
     "text": [
      "root\n",
      " |-- movie_id: long (nullable = true)\n",
      " |-- director: string (nullable = true)\n",
      "\n",
      "+--------+--------------------+\n",
      "|movie_id|            director|\n",
      "+--------+--------------------+\n",
      "|       1|      Frank Darabont|\n",
      "|       2|Francis Ford Coppola|\n",
      "|       3|   Christopher Nolan|\n",
      "|       4|Francis Ford Coppola|\n",
      "|       5|        Sidney Lumet|\n",
      "+--------+--------------------+\n",
      "only showing top 5 rows\n",
      "\n"
     ]
    }
   ],
   "source": [
    "# t_directors\n",
    "t_directors = spark.read.parquet('master/t_directors.parquet', header=True)\n",
    "\n",
    "t_directors.printSchema()\n",
    "t_directors.show(5)"
   ]
  },
  {
   "cell_type": "markdown",
   "id": "196a12d2-a1f6-47ee-a0ae-cdeceb5836e6",
   "metadata": {},
   "source": [
    "## Create temporary views to run SQL queries."
   ]
  },
  {
   "cell_type": "code",
   "execution_count": 7,
   "id": "2c8f9747-772e-4511-9086-7f60717bbaf8",
   "metadata": {},
   "outputs": [],
   "source": [
    "# Create views of the tables to run SQL queries\n",
    "t_movies.createOrReplaceTempView('t_movies')  \n",
    "t_genres.createOrReplaceTempView('t_genres')  \n",
    "t_actors.createOrReplaceTempView('t_actors')  \n",
    "t_directors.createOrReplaceTempView('t_directors')"
   ]
  },
  {
   "cell_type": "markdown",
   "id": "68a4aa66-981f-4b41-a06e-33f0e978a9aa",
   "metadata": {},
   "source": [
    "## Join t_movies & t_genres."
   ]
  },
  {
   "cell_type": "code",
   "execution_count": 8,
   "id": "59a28dc6-a1c7-43aa-a9e2-82362f118f53",
   "metadata": {},
   "outputs": [
    {
     "name": "stdout",
     "output_type": "stream",
     "text": [
      "\n",
      "626 rows in total\n",
      "+--------+--------------------+-----+------+----------+\n",
      "|movie_id|               title|genre|rating|popularity|\n",
      "+--------+--------------------+-----+------+----------+\n",
      "|       1|The Shawshank Red...|Drama|   9.3|        71|\n",
      "|       2|       The Godfather|Drama|   9.2|        68|\n",
      "|       2|       The Godfather|Crime|   9.2|        68|\n",
      "|       3|     The Dark Knight|Drama|   9.0|       107|\n",
      "|       3|     The Dark Knight|Crime|   9.0|       107|\n",
      "+--------+--------------------+-----+------+----------+\n",
      "only showing top 5 rows\n",
      "\n"
     ]
    }
   ],
   "source": [
    "join1 = spark.sql(\"\"\"\n",
    "    SELECT m.movie_id, m.title, g.genre, m.rating, m.popularity \n",
    "    FROM t_movies m\n",
    "    INNER JOIN t_genres g\n",
    "    ON m.movie_id = g.movie_id\n",
    "\"\"\")\n",
    "\n",
    "# Display\n",
    "print(f'\\n{join1.count()} rows in total')\n",
    "join1.show(5)"
   ]
  },
  {
   "cell_type": "code",
   "execution_count": 9,
   "id": "d7ec79e3-acb2-4ec1-87fc-b57abac112f1",
   "metadata": {},
   "outputs": [],
   "source": [
    "# Create temporary view of join1 to run queries\n",
    "join1.createOrReplaceTempView('join1')  "
   ]
  },
  {
   "cell_type": "markdown",
   "id": "a2d347d0-4ab3-4677-8e50-86b0042b0e6a",
   "metadata": {},
   "source": [
    "**Count and visualize total number of genres.**"
   ]
  },
  {
   "cell_type": "code",
   "execution_count": 10,
   "id": "a67ced58-fef8-4fc1-a4e5-dbb0c3364055",
   "metadata": {},
   "outputs": [
    {
     "name": "stdout",
     "output_type": "stream",
     "text": [
      "\n",
      "21 distinct values\n",
      "+---------+\n",
      "|    genre|\n",
      "+---------+\n",
      "|   Action|\n",
      "|Adventure|\n",
      "|Animation|\n",
      "|Biography|\n",
      "|   Comedy|\n",
      "|    Crime|\n",
      "|    Drama|\n",
      "|   Family|\n",
      "|  Fantasy|\n",
      "|Film-Noir|\n",
      "|  History|\n",
      "|   Horror|\n",
      "|    Music|\n",
      "|  Musical|\n",
      "|  Mystery|\n",
      "|  Romance|\n",
      "|   Sci-Fi|\n",
      "|    Sport|\n",
      "| Thriller|\n",
      "|      War|\n",
      "|  Western|\n",
      "+---------+\n",
      "\n"
     ]
    }
   ],
   "source": [
    "genre_distinct = spark.sql(\"\"\"\n",
    "    SELECT DISTINCT genre\n",
    "    FROM t_genres\n",
    "    ORDER BY genre\n",
    "\"\"\")\n",
    "\n",
    "genre_count = genre_distinct.count()\n",
    "\n",
    "# Display\n",
    "print(f'\\n{genre_count} distinct values')\n",
    "genre_distinct.show(genre_count)"
   ]
  },
  {
   "cell_type": "markdown",
   "id": "961bc8f3-c60d-4af5-9821-330c4cb780df",
   "metadata": {},
   "source": [
    "### BQ1. Average popularity and IMDb rating for each genre found with counts."
   ]
  },
  {
   "cell_type": "code",
   "execution_count": 11,
   "id": "0424bea6-0a54-4b26-a9b6-649b1a4b832e",
   "metadata": {},
   "outputs": [
    {
     "name": "stdout",
     "output_type": "stream",
     "text": [
      "+---------+----------+-----------+\n",
      "|    genre|avg_rating|genre_count|\n",
      "+---------+----------+-----------+\n",
      "|    Music|  8.400000|          4|\n",
      "|    Crime|  8.360784|         51|\n",
      "|   Sci-Fi|  8.360000|         20|\n",
      "|   Action|  8.348000|         50|\n",
      "|   Horror|  8.340000|          5|\n",
      "|  Western|  8.328571|          7|\n",
      "|  Mystery|  8.325806|         31|\n",
      "|    Drama|  8.320339|        177|\n",
      "|  Fantasy|  8.307143|         14|\n",
      "|  Musical|  8.300000|          1|\n",
      "|Adventure|  8.296667|         60|\n",
      "|  Romance|  8.295652|         23|\n",
      "|      War|  8.291304|         23|\n",
      "|  History|  8.270000|         10|\n",
      "| Thriller|  8.261290|         31|\n",
      "|   Family|  8.253846|         13|\n",
      "|Biography|  8.248276|         29|\n",
      "|Animation|  8.247826|         23|\n",
      "|   Comedy|  8.228889|         45|\n",
      "|Film-Noir|  8.225000|          4|\n",
      "|    Sport|  8.160000|          5|\n",
      "+---------+----------+-----------+\n",
      "\n"
     ]
    }
   ],
   "source": [
    "# Average rating by genre\n",
    "spark.sql(\"\"\"\n",
    "    SELECT\n",
    "        genre,\n",
    "        CAST(AVG(rating) AS DECIMAL(8,6)) AS avg_rating,\n",
    "        COUNT(genre) AS genre_count\n",
    "    FROM join1\n",
    "    GROUP BY genre\n",
    "    ORDER BY avg_rating DESC\n",
    "\"\"\").show(genre_count)"
   ]
  },
  {
   "cell_type": "code",
   "execution_count": 12,
   "id": "907c5215-0fec-45b1-ad33-60a8aa44e7d4",
   "metadata": {},
   "outputs": [
    {
     "name": "stdout",
     "output_type": "stream",
     "text": [
      "+---------+--------------+-----------+\n",
      "|    genre|avg_popularity|genre_count|\n",
      "+---------+--------------+-----------+\n",
      "|   Sci-Fi|        415.35|         20|\n",
      "|   Horror|        442.40|          5|\n",
      "|    Music|        535.50|          4|\n",
      "|   Action|        726.52|         50|\n",
      "|Adventure|        777.55|         60|\n",
      "|  Fantasy|        795.57|         14|\n",
      "|    Sport|        817.60|          5|\n",
      "|Biography|        945.69|         29|\n",
      "|    Crime|        990.84|         51|\n",
      "| Thriller|       1054.26|         31|\n",
      "|  History|       1086.10|         10|\n",
      "|    Drama|       1090.73|        177|\n",
      "|   Comedy|       1172.40|         45|\n",
      "|   Family|       1175.38|         13|\n",
      "|  Romance|       1223.22|         23|\n",
      "|Animation|       1256.52|         23|\n",
      "|  Mystery|       1272.52|         31|\n",
      "|  Western|       1418.29|          7|\n",
      "|      War|       1446.26|         23|\n",
      "|  Musical|       1775.00|          1|\n",
      "|Film-Noir|       2262.50|          4|\n",
      "+---------+--------------+-----------+\n",
      "\n"
     ]
    }
   ],
   "source": [
    "# Average rating by genre\n",
    "spark.sql(\"\"\"\n",
    "    SELECT\n",
    "        genre,\n",
    "        CAST(AVG(popularity) AS DECIMAL(7,2)) AS avg_popularity,\n",
    "        COUNT(genre) AS genre_count\n",
    "    FROM join1\n",
    "    GROUP BY genre\n",
    "    ORDER BY avg_popularity\n",
    "\"\"\").show(genre_count)"
   ]
  },
  {
   "cell_type": "markdown",
   "id": "59c43050-40e3-4246-a6f6-0146ac5b2163",
   "metadata": {},
   "source": [
    "## Join t_movies & t_actors."
   ]
  },
  {
   "cell_type": "code",
   "execution_count": 13,
   "id": "54988428-6317-4ffa-bbbc-77f3f2b5573a",
   "metadata": {},
   "outputs": [
    {
     "name": "stdout",
     "output_type": "stream",
     "text": [
      "\n",
      "4360 rows in total\n",
      "+--------+--------------------+--------------+------+----------+\n",
      "|movie_id|               title|         actor|rating|popularity|\n",
      "+--------+--------------------+--------------+------+----------+\n",
      "|       1|The Shawshank Red...|   Tim Robbins|   9.3|        71|\n",
      "|       1|The Shawshank Red...|Morgan Freeman|   9.3|        71|\n",
      "|       1|The Shawshank Red...|    Bob Gunton|   9.3|        71|\n",
      "|       1|The Shawshank Red...|William Sadler|   9.3|        71|\n",
      "|       1|The Shawshank Red...|  Clancy Brown|   9.3|        71|\n",
      "+--------+--------------------+--------------+------+----------+\n",
      "only showing top 5 rows\n",
      "\n"
     ]
    }
   ],
   "source": [
    "join2 = spark.sql(\"\"\"\n",
    "    SELECT m.movie_id, m.title, a.actor, m.rating, m.popularity\n",
    "    FROM t_movies m\n",
    "    INNER JOIN t_actors a\n",
    "    ON m.movie_id = a.movie_id\n",
    "\"\"\")\n",
    "\n",
    "# Display\n",
    "print(f'\\n{join2.count()} rows in total')\n",
    "join2.show(5)"
   ]
  },
  {
   "cell_type": "code",
   "execution_count": 14,
   "id": "fdb215e6-1462-4c7e-bd4e-305bc79125df",
   "metadata": {},
   "outputs": [],
   "source": [
    "# Create temporary view of join2 to run queries\n",
    "join2.createOrReplaceTempView('join2')  "
   ]
  },
  {
   "cell_type": "markdown",
   "id": "a8e5a923-507c-47f7-b125-d35605a904ea",
   "metadata": {},
   "source": [
    "## BQ2. Top 5 movie actors with the best popularity and rating."
   ]
  },
  {
   "cell_type": "code",
   "execution_count": 15,
   "id": "eb079e6e-0c58-44ef-8843-70bc9598904f",
   "metadata": {},
   "outputs": [
    {
     "name": "stdout",
     "output_type": "stream",
     "text": [
      "+---------------+----------+\n",
      "|          actor|avg_rating|\n",
      "+---------------+----------+\n",
      "|    Tim Robbins|  9.300000|\n",
      "|   David Proval|  9.300000|\n",
      "|   Paul McCrane|  9.300000|\n",
      "|Jude Ciccolella|  9.300000|\n",
      "|   Joseph Ragno|  9.300000|\n",
      "+---------------+----------+\n",
      "only showing top 5 rows\n",
      "\n"
     ]
    }
   ],
   "source": [
    "# Actors with best rating (average)\n",
    "spark.sql(\"\"\"\n",
    "    SELECT actor, CAST(AVG(rating) AS DECIMAL(8,6)) AS avg_rating\n",
    "    FROM join2\n",
    "    GROUP BY actor\n",
    "    ORDER BY avg_rating DESC\n",
    "\"\"\").show(5)"
   ]
  },
  {
   "cell_type": "code",
   "execution_count": 16,
   "id": "e022c2a9-f231-49f3-bde5-59ae030d61df",
   "metadata": {},
   "outputs": [
    {
     "name": "stdout",
     "output_type": "stream",
     "text": [
      "+-------------------+--------------+\n",
      "|              actor|avg_popularity|\n",
      "+-------------------+--------------+\n",
      "|      Lewis Pullman|         25.00|\n",
      "|     Michele Sakara|         25.00|\n",
      "|      Carlo Jachino|         25.00|\n",
      "|Lamberto Maggiorani|         25.00|\n",
      "|          Jay Ellis|         25.00|\n",
      "+-------------------+--------------+\n",
      "only showing top 5 rows\n",
      "\n"
     ]
    }
   ],
   "source": [
    "# Actors with best popularity (average)\n",
    "spark.sql(\"\"\"\n",
    "    SELECT actor, CAST(AVG(popularity) AS DECIMAL(7,2)) AS avg_popularity\n",
    "    FROM join2\n",
    "    GROUP BY actor\n",
    "    ORDER BY avg_popularity\n",
    "\"\"\").show(5)"
   ]
  },
  {
   "cell_type": "markdown",
   "id": "8961642c-ff41-4c36-b882-e3d9ea41b4af",
   "metadata": {},
   "source": [
    "### BQ2 Alternative approach."
   ]
  },
  {
   "cell_type": "code",
   "execution_count": 17,
   "id": "a28a669e-2752-4fc6-8315-90cbc2fe45ad",
   "metadata": {},
   "outputs": [
    {
     "name": "stdout",
     "output_type": "stream",
     "text": [
      "+-----------------+----------+\n",
      "|            actor|tot_rating|\n",
      "+-----------------+----------+\n",
      "|   Robert De Niro|     75.40|\n",
      "|   Morgan Freeman|     59.80|\n",
      "|    Harrison Ford|     58.80|\n",
      "|John Ratzenberger|     57.60|\n",
      "|    Michael Caine|     51.50|\n",
      "+-----------------+----------+\n",
      "only showing top 5 rows\n",
      "\n"
     ]
    }
   ],
   "source": [
    "# Actors with best rating (cumulative)\n",
    "spark.sql(\"\"\"\n",
    "    SELECT actor, CAST(SUM(rating) AS DECIMAL(5,2)) AS tot_rating\n",
    "    FROM join2\n",
    "    GROUP BY actor\n",
    "    ORDER BY tot_rating DESC\n",
    "\"\"\").show(5)"
   ]
  },
  {
   "cell_type": "code",
   "execution_count": 18,
   "id": "a0b3d7ea-68e3-42da-86de-4f3d5010f37f",
   "metadata": {},
   "outputs": [
    {
     "name": "stdout",
     "output_type": "stream",
     "text": [
      "+--------------------+--------------+------+\n",
      "|               actor|avg_popularity|movies|\n",
      "+--------------------+--------------+------+\n",
      "|         Talia Shire|        139.67|     3|\n",
      "|          Matt Damon|        191.75|     4|\n",
      "|   Leonardo DiCaprio|        203.17|     6|\n",
      "|Benedict Cumberbatch|        207.00|     3|\n",
      "|         Tom Holland|        207.00|     3|\n",
      "+--------------------+--------------+------+\n",
      "only showing top 5 rows\n",
      "\n"
     ]
    }
   ],
   "source": [
    "# Actors with best popularity (average popularity & at least 3 movies in the Top-250)\n",
    "spark.sql(\"\"\"\n",
    "    SELECT actor, CAST(AVG(popularity) AS DECIMAL(7,2)) AS avg_popularity, COUNT(actor) AS movies\n",
    "    FROM join2\n",
    "    GROUP BY actor\n",
    "    HAVING movies >= 3\n",
    "    ORDER BY avg_popularity\n",
    "\"\"\").show(5)"
   ]
  },
  {
   "cell_type": "markdown",
   "id": "62ad7939-c0e8-4d21-a163-2a43a7e29a6d",
   "metadata": {},
   "source": [
    "## BQ3. Top 5 movie actors with the worst popularity and rating."
   ]
  },
  {
   "cell_type": "code",
   "execution_count": 19,
   "id": "e06f923b-2611-4414-aef8-8e7c6b01315d",
   "metadata": {},
   "outputs": [
    {
     "name": "stdout",
     "output_type": "stream",
     "text": [
      "+--------------------+----------+\n",
      "|               actor|avg_rating|\n",
      "+--------------------+----------+\n",
      "|         Tom Everett|  8.000000|\n",
      "|Nathan Lee Chasin...|  8.000000|\n",
      "|     Craig T. Nelson|  8.000000|\n",
      "|    Jonathan Freeman|  8.000000|\n",
      "|     Dominique Louis|  8.000000|\n",
      "+--------------------+----------+\n",
      "only showing top 5 rows\n",
      "\n"
     ]
    }
   ],
   "source": [
    "# Actors with worst rating (average)\n",
    "spark.sql(\"\"\"\n",
    "    SELECT actor, CAST(AVG(rating) AS DECIMAL(8,6)) AS avg_rating\n",
    "    FROM join2\n",
    "    GROUP BY actor\n",
    "    ORDER BY avg_rating\n",
    "\"\"\").show(5)"
   ]
  },
  {
   "cell_type": "code",
   "execution_count": 20,
   "id": "19310a45-be53-43dc-99d2-421dad7ccce0",
   "metadata": {},
   "outputs": [
    {
     "name": "stdout",
     "output_type": "stream",
     "text": [
      "+-------------------+--------------+\n",
      "|              actor|avg_popularity|\n",
      "+-------------------+--------------+\n",
      "| Aparshakti Khurana|       4959.00|\n",
      "|      Mahesh Balraj|       4959.00|\n",
      "|       Anmol Charan|       4959.00|\n",
      "| Fatima Sana Shaikh|       4959.00|\n",
      "|Karamveer Choudhary|       4959.00|\n",
      "+-------------------+--------------+\n",
      "only showing top 5 rows\n",
      "\n"
     ]
    }
   ],
   "source": [
    "# Actors with worst popularity (average)\n",
    "spark.sql(\"\"\"\n",
    "    SELECT actor, CAST(AVG(popularity) AS DECIMAL(7,2)) AS avg_popularity\n",
    "    FROM join2\n",
    "    GROUP BY actor\n",
    "    ORDER BY avg_popularity DESC\n",
    "\"\"\").show(5)"
   ]
  },
  {
   "cell_type": "markdown",
   "id": "7a409dea-4d05-4e1d-a62f-48cf2ce4ad2c",
   "metadata": {},
   "source": [
    "## Join t_movies & t_directors."
   ]
  },
  {
   "cell_type": "code",
   "execution_count": 21,
   "id": "94679724-a079-4680-9d56-28b156ddc978",
   "metadata": {},
   "outputs": [
    {
     "name": "stdout",
     "output_type": "stream",
     "text": [
      "\n",
      "277 rows in total\n",
      "+--------+--------------------+--------------------+------+----------+\n",
      "|movie_id|               title|            director|rating|popularity|\n",
      "+--------+--------------------+--------------------+------+----------+\n",
      "|       1|The Shawshank Red...|      Frank Darabont|   9.3|        71|\n",
      "|       2|       The Godfather|Francis Ford Coppola|   9.2|        68|\n",
      "|       3|     The Dark Knight|   Christopher Nolan|   9.0|       107|\n",
      "|       4|The Godfather Par...|Francis Ford Coppola|   9.0|       245|\n",
      "|       5|        12 Angry Men|        Sidney Lumet|   9.0|       276|\n",
      "+--------+--------------------+--------------------+------+----------+\n",
      "only showing top 5 rows\n",
      "\n"
     ]
    }
   ],
   "source": [
    "join3 = spark.sql(\"\"\"\n",
    "    SELECT m.movie_id, m.title, d.director, m.rating, m.popularity \n",
    "    FROM t_movies m\n",
    "    INNER JOIN t_directors d\n",
    "    ON m.movie_id = d.movie_id\n",
    "\"\"\")\n",
    "\n",
    "# Display\n",
    "print(f'\\n{join3.count()} rows in total')\n",
    "join3.show(5)"
   ]
  },
  {
   "cell_type": "code",
   "execution_count": 22,
   "id": "aa14086d-ed6e-4135-91d5-05665f9a3563",
   "metadata": {},
   "outputs": [],
   "source": [
    "# Create temporary view of join3 to run queries\n",
    "join3.createOrReplaceTempView('join3')"
   ]
  },
  {
   "cell_type": "markdown",
   "id": "0745c979-f9fe-4275-a97c-ec2b0e5e5765",
   "metadata": {},
   "source": [
    "## BQ4. Top 5 movie directors with the best popularity and rating."
   ]
  },
  {
   "cell_type": "code",
   "execution_count": 23,
   "id": "df96e442-f54a-4923-ab51-9323cd174f7d",
   "metadata": {},
   "outputs": [
    {
     "name": "stdout",
     "output_type": "stream",
     "text": [
      "+--------------------+----------+\n",
      "|            director|avg_rating|\n",
      "+--------------------+----------+\n",
      "|      Frank Darabont|  8.950000|\n",
      "|Francis Ford Coppola|  8.900000|\n",
      "|       Peter Jackson|  8.866667|\n",
      "|       T.J. Gnanavel|  8.800000|\n",
      "|      Lana Wachowski|  8.700000|\n",
      "+--------------------+----------+\n",
      "only showing top 5 rows\n",
      "\n"
     ]
    }
   ],
   "source": [
    "# Directors with best rating (average)\n",
    "spark.sql(\"\"\"\n",
    "    SELECT director, CAST(AVG(rating) AS DECIMAL(8,6)) AS avg_rating\n",
    "    FROM join3\n",
    "    GROUP BY director\n",
    "    ORDER BY avg_rating DESC\n",
    "\"\"\").show(5)"
   ]
  },
  {
   "cell_type": "code",
   "execution_count": 24,
   "id": "00a7cc93-b46c-4bac-958f-0636d3d7ebc5",
   "metadata": {},
   "outputs": [
    {
     "name": "stdout",
     "output_type": "stream",
     "text": [
      "+----------------+--------------+\n",
      "|        director|avg_popularity|\n",
      "+----------------+--------------+\n",
      "|Vittorio De Sica|         25.00|\n",
      "| Joseph Kosinski|         25.00|\n",
      "|     Tate Taylor|         97.00|\n",
      "|John G. Avildsen|        106.00|\n",
      "|    Gus Van Sant|        124.00|\n",
      "+----------------+--------------+\n",
      "only showing top 5 rows\n",
      "\n"
     ]
    }
   ],
   "source": [
    "# Actors with best popularity (average)\n",
    "spark.sql(\"\"\"\n",
    "    SELECT director, CAST(AVG(popularity) AS DECIMAL(7,2)) AS avg_popularity\n",
    "    FROM join3\n",
    "    GROUP BY director\n",
    "    ORDER BY avg_popularity\n",
    "\"\"\").show(5)"
   ]
  },
  {
   "cell_type": "markdown",
   "id": "7ec4e6e5-2c60-486a-9113-dd7ab3379425",
   "metadata": {},
   "source": [
    "### BQ4 Alternative approach."
   ]
  },
  {
   "cell_type": "code",
   "execution_count": 25,
   "id": "d05febc5-b626-4200-abf8-dad6009fbaad",
   "metadata": {},
   "outputs": [
    {
     "name": "stdout",
     "output_type": "stream",
     "text": [
      "+-----------------+----------+\n",
      "|         director|tot_rating|\n",
      "+-----------------+----------+\n",
      "|Christopher Nolan|     59.90|\n",
      "| Steven Spielberg|     58.60|\n",
      "|  Stanley Kubrick|     58.20|\n",
      "|  Martin Scorsese|     58.20|\n",
      "|   Akira Kurosawa|     58.10|\n",
      "+-----------------+----------+\n",
      "only showing top 5 rows\n",
      "\n"
     ]
    }
   ],
   "source": [
    "# Directors with best rating (cumulative)\n",
    "spark.sql(\"\"\"\n",
    "    SELECT director, CAST(SUM(rating) AS DECIMAL(5,2)) AS tot_rating\n",
    "    FROM join3\n",
    "    GROUP BY director\n",
    "    ORDER BY tot_rating DESC\n",
    "\"\"\").show(5)"
   ]
  },
  {
   "cell_type": "code",
   "execution_count": 26,
   "id": "985b87ee-504f-485e-833f-e32a270e81e0",
   "metadata": {},
   "outputs": [
    {
     "name": "stdout",
     "output_type": "stream",
     "text": [
      "+-----------------+--------------+------+\n",
      "|         director|avg_popularity|movies|\n",
      "+-----------------+--------------+------+\n",
      "| Steven Spielberg|        263.43|     7|\n",
      "|Christopher Nolan|        270.86|     7|\n",
      "|Quentin Tarantino|        296.20|     5|\n",
      "|  Martin Scorsese|        375.43|     7|\n",
      "|      Lee Unkrich|       1000.50|     4|\n",
      "+-----------------+--------------+------+\n",
      "only showing top 5 rows\n",
      "\n"
     ]
    }
   ],
   "source": [
    "# Directors with best popularity (average popularity & at least 4 movies in the Top-250)\n",
    "spark.sql(\"\"\"\n",
    "    SELECT director, CAST(AVG(popularity) AS DECIMAL(7,2)) AS avg_popularity, COUNT(director) AS movies\n",
    "    FROM join3\n",
    "    GROUP BY director\n",
    "    HAVING movies >= 4\n",
    "    ORDER BY avg_popularity\n",
    "\"\"\").show(5)"
   ]
  },
  {
   "cell_type": "markdown",
   "id": "2dfb9c64-849b-418a-8558-eaf45142cebd",
   "metadata": {},
   "source": [
    "## BQ5. Top 5 movie directors with the worst popularity and rating."
   ]
  },
  {
   "cell_type": "code",
   "execution_count": 27,
   "id": "2daacf5d-5fe3-4e66-9466-acf4ead0f6de",
   "metadata": {},
   "outputs": [
    {
     "name": "stdout",
     "output_type": "stream",
     "text": [
      "+--------------------+----------+\n",
      "|            director|avg_rating|\n",
      "+--------------------+----------+\n",
      "|Richard Attenborough|  8.000000|\n",
      "|         John Musker|  8.000000|\n",
      "|        Ron Clements|  8.000000|\n",
      "|       Kevin Costner|  8.000000|\n",
      "|           Brad Bird|  8.066667|\n",
      "+--------------------+----------+\n",
      "only showing top 5 rows\n",
      "\n"
     ]
    }
   ],
   "source": [
    "# Directors with worst rating (average)\n",
    "spark.sql(\"\"\"\n",
    "    SELECT director, CAST(AVG(rating) AS DECIMAL(8,6)) AS avg_rating\n",
    "    FROM join3\n",
    "    GROUP BY director\n",
    "    ORDER BY avg_rating\n",
    "\"\"\").show(5)"
   ]
  },
  {
   "cell_type": "code",
   "execution_count": 28,
   "id": "4bae64de-1c4e-4dc5-a396-80e769d33f98",
   "metadata": {},
   "outputs": [
    {
     "name": "stdout",
     "output_type": "stream",
     "text": [
      "+-----------------+--------------+\n",
      "|         director|avg_popularity|\n",
      "+-----------------+--------------+\n",
      "|    Nitesh Tiwari|       4959.00|\n",
      "|      Adam Elliot|       4598.00|\n",
      "|François Truffaut|       4428.00|\n",
      "|    T.J. Gnanavel|       4386.00|\n",
      "|      John Huston|       4044.00|\n",
      "+-----------------+--------------+\n",
      "only showing top 5 rows\n",
      "\n"
     ]
    }
   ],
   "source": [
    "# Directors with worst popularity (average)\n",
    "spark.sql(\"\"\"\n",
    "    SELECT director, CAST(AVG(popularity) AS DECIMAL(7,2)) AS avg_popularity\n",
    "    FROM join3\n",
    "    GROUP BY director\n",
    "    ORDER BY avg_popularity DESC\n",
    "\"\"\").show(5)"
   ]
  },
  {
   "cell_type": "markdown",
   "id": "6088c9e7-3788-444a-9c22-1fa32c92ea3f",
   "metadata": {},
   "source": [
    "## Join t_directors & t_actors."
   ]
  },
  {
   "cell_type": "code",
   "execution_count": 29,
   "id": "561b9726-bbd9-4f6f-b41d-40fbd2089ed3",
   "metadata": {},
   "outputs": [
    {
     "name": "stdout",
     "output_type": "stream",
     "text": [
      "\n",
      "4833 rows in total\n",
      "+--------+--------------+--------------+\n",
      "|movie_id|      director|         actor|\n",
      "+--------+--------------+--------------+\n",
      "|       1|Frank Darabont|   Tim Robbins|\n",
      "|       1|Frank Darabont|Morgan Freeman|\n",
      "|       1|Frank Darabont|    Bob Gunton|\n",
      "|       1|Frank Darabont|William Sadler|\n",
      "|       1|Frank Darabont|  Clancy Brown|\n",
      "+--------+--------------+--------------+\n",
      "only showing top 5 rows\n",
      "\n"
     ]
    }
   ],
   "source": [
    "join4 = spark.sql(\"\"\"\n",
    "    SELECT d.movie_id, d.director, a.actor\n",
    "    FROM t_directors d\n",
    "    INNER JOIN t_actors a\n",
    "    ON d.movie_id = a.movie_id\n",
    "\"\"\")\n",
    "\n",
    "# Display\n",
    "print(f'\\n{join4.count()} rows in total')\n",
    "join4.show(5)"
   ]
  },
  {
   "cell_type": "code",
   "execution_count": 30,
   "id": "6b6b1e8c-8de0-4baa-be44-3c6e73aa2cc4",
   "metadata": {},
   "outputs": [],
   "source": [
    "# Create temporary view of join4 to run queries\n",
    "join4.createOrReplaceTempView('join4')  "
   ]
  },
  {
   "cell_type": "markdown",
   "id": "d26143bb-afb7-47e8-9a7e-19fc24ce0e64",
   "metadata": {},
   "source": [
    "## BQ6. Top 5 most common pairs of actors and directors. \n",
    "**e.g. (Tim burton - Jhony Deep)**"
   ]
  },
  {
   "cell_type": "code",
   "execution_count": 31,
   "id": "2df222e4-3e6d-4b39-b19f-5c0ec2eab47c",
   "metadata": {},
   "outputs": [
    {
     "name": "stdout",
     "output_type": "stream",
     "text": [
      "+-----------------+---------------+-----+\n",
      "|         director|          actor|count|\n",
      "+-----------------+---------------+-----+\n",
      "|Christopher Nolan|  Michael Caine|    6|\n",
      "|  Charles Chaplin|Charles Chaplin|    5|\n",
      "|   Akira Kurosawa|Takashi Shimura|    5|\n",
      "|Christopher Nolan| Christian Bale|    4|\n",
      "|  Charles Chaplin|  Henry Bergman|    4|\n",
      "+-----------------+---------------+-----+\n",
      "only showing top 5 rows\n",
      "\n"
     ]
    }
   ],
   "source": [
    "spark.sql(\"\"\"\n",
    "SELECT director, actor, COUNT(*) AS count \n",
    "FROM join4\n",
    "GROUP BY director, actor\n",
    "ORDER BY count DESC\n",
    "\"\"\").show(5)"
   ]
  },
  {
   "cell_type": "markdown",
   "id": "ebfa993b-f3ac-4bc0-9524-31d541fccda4",
   "metadata": {},
   "source": [
    "## BQ7. Top 5 most common pairs of actors.\n",
    "**e.g. (Al Pacino - Robert de Niro)**"
   ]
  },
  {
   "cell_type": "code",
   "execution_count": 32,
   "id": "c08611b4-b9d6-4fa3-8ca9-1a5edef126bd",
   "metadata": {},
   "outputs": [
    {
     "name": "stdout",
     "output_type": "stream",
     "text": [
      "+---------------+---------------+-----+\n",
      "|         actor1|         actor2|count|\n",
      "+---------------+---------------+-----+\n",
      "| Christian Bale|  Michael Caine|    4|\n",
      "|Charles Chaplin|  Henry Bergman|    4|\n",
      "|Takashi Shimura| Toshirô Mifune|    4|\n",
      "|      Joe Pesci| Robert De Niro|    4|\n",
      "|  Minoru Chiaki|Takashi Shimura|    4|\n",
      "+---------------+---------------+-----+\n",
      "only showing top 5 rows\n",
      "\n"
     ]
    }
   ],
   "source": [
    "spark.sql(\"\"\"\n",
    "    SELECT a1.actor AS actor1, a2.actor AS actor2, COUNT(*) AS count\n",
    "    FROM t_actors a1\n",
    "    INNER JOIN t_actors a2 \n",
    "    ON a1.movie_id = a2.movie_id\n",
    "    WHERE a1.actor < a2.actor\n",
    "    GROUP BY a1.actor, a2.actor\n",
    "    ORDER BY count DESC\n",
    "\"\"\").show(5)"
   ]
  },
  {
   "cell_type": "markdown",
   "id": "a8254c56-eb69-45d1-a8c2-ee864296205c",
   "metadata": {},
   "source": [
    "## Join t_movies, t_genres, t_actors."
   ]
  },
  {
   "cell_type": "code",
   "execution_count": 33,
   "id": "f087ff1e-830f-4bb1-91c5-6cdf589df4ba",
   "metadata": {},
   "outputs": [
    {
     "name": "stdout",
     "output_type": "stream",
     "text": [
      "\n",
      "10939 rows in total\n",
      "+--------+--------------------+-----+---------------+------+----------+\n",
      "|movie_id|               title|genre|          actor|rating|popularity|\n",
      "+--------+--------------------+-----+---------------+------+----------+\n",
      "|       1|The Shawshank Red...|Drama|     Scott Mann|   9.3|        71|\n",
      "|       1|The Shawshank Red...|Drama|   Renee Blaine|   9.3|        71|\n",
      "|       1|The Shawshank Red...|Drama|   Paul McCrane|   9.3|        71|\n",
      "|       1|The Shawshank Red...|Drama|Jude Ciccolella|   9.3|        71|\n",
      "|       1|The Shawshank Red...|Drama|   Joseph Ragno|   9.3|        71|\n",
      "+--------+--------------------+-----+---------------+------+----------+\n",
      "only showing top 5 rows\n",
      "\n"
     ]
    }
   ],
   "source": [
    "join5 = spark.sql(\"\"\"\n",
    "    SELECT m.movie_id, m.title, g.genre, a.actor, m.rating, m.popularity\n",
    "    FROM t_movies m\n",
    "    INNER JOIN t_genres g\n",
    "    ON m.movie_id = g.movie_id\n",
    "    INNER JOIN t_actors a\n",
    "    ON m.movie_id = a.movie_id\n",
    "\"\"\")\n",
    "\n",
    "# Display\n",
    "print(f'\\n{join5.count()} rows in total')\n",
    "join5.show(5)"
   ]
  },
  {
   "cell_type": "code",
   "execution_count": 34,
   "id": "cabe81a4-251e-47fd-bcaf-077e8442d317",
   "metadata": {},
   "outputs": [],
   "source": [
    "# Create temporary view of join5 to run queries\n",
    "join5.createOrReplaceTempView('join5')  "
   ]
  },
  {
   "cell_type": "markdown",
   "id": "58668491-565e-414e-8343-58c3dbc74e46",
   "metadata": {},
   "source": [
    "## BQ8. [Part 1] Best actors for each genre.\n",
    "**use preferred metric and explain the choice"
   ]
  },
  {
   "cell_type": "code",
   "execution_count": 35,
   "id": "9874d7a4-8453-45a0-8957-6db7a2fb1660",
   "metadata": {},
   "outputs": [
    {
     "name": "stdout",
     "output_type": "stream",
     "text": [
      "\n",
      "10102 rows in total\n",
      "+---------+-----------------+-------------------+\n",
      "|    genre|            actor|tot_rating_by_genre|\n",
      "+---------+-----------------+-------------------+\n",
      "|    Drama|   Robert De Niro|              75.40|\n",
      "|    Drama|   Morgan Freeman|              59.80|\n",
      "|    Crime|   Robert De Niro|              59.10|\n",
      "|Adventure|John Ratzenberger|              57.60|\n",
      "|Animation|John Ratzenberger|              57.60|\n",
      "+---------+-----------------+-------------------+\n",
      "only showing top 5 rows\n",
      "\n"
     ]
    }
   ],
   "source": [
    "# Actors' rating (cumulative) divided by genre\n",
    "aux1 = spark.sql(\"\"\"\n",
    "    SELECT genre, actor, CAST(SUM(rating) AS DECIMAL(5,2)) AS tot_rating_by_genre\n",
    "    FROM join5\n",
    "    GROUP BY genre, actor\n",
    "    ORDER BY tot_rating_by_genre DESC\n",
    "\"\"\")\n",
    "\n",
    "# Display\n",
    "print(f'\\n{aux1.count()} rows in total')\n",
    "aux1.show(5)"
   ]
  },
  {
   "cell_type": "code",
   "execution_count": 36,
   "id": "eea751a7-1da4-4eff-a78b-47f084c9ac88",
   "metadata": {},
   "outputs": [],
   "source": [
    "# Create temporary view of aux to run queries\n",
    "aux1.createOrReplaceTempView('aux1')  "
   ]
  },
  {
   "cell_type": "code",
   "execution_count": 37,
   "id": "a6201183-4eac-4994-afd3-a8f7fde79e67",
   "metadata": {},
   "outputs": [
    {
     "name": "stdout",
     "output_type": "stream",
     "text": [
      "+---------+-----------------------+\n",
      "|    genre|max_tot_rating_by_genre|\n",
      "+---------+-----------------------+\n",
      "|    Drama|                  75.40|\n",
      "|    Crime|                  59.10|\n",
      "|Adventure|                  57.60|\n",
      "|Animation|                  57.60|\n",
      "|   Action|                  50.30|\n",
      "|   Comedy|                  49.20|\n",
      "|   Sci-Fi|                  25.90|\n",
      "|  Fantasy|                  25.60|\n",
      "|  Mystery|                  25.30|\n",
      "|  Western|                  25.20|\n",
      "|Biography|                  17.00|\n",
      "|  Romance|                  17.00|\n",
      "|  History|                  17.00|\n",
      "|   Family|                  16.80|\n",
      "| Thriller|                  16.80|\n",
      "|      War|                  16.60|\n",
      "|   Horror|                   8.50|\n",
      "|    Music|                   8.50|\n",
      "|Film-Noir|                   8.40|\n",
      "|  Musical|                   8.30|\n",
      "|    Sport|                   8.20|\n",
      "+---------+-----------------------+\n",
      "\n"
     ]
    }
   ],
   "source": [
    "# Best rating (cumulative) by genre\n",
    "spark.sql(\"\"\"\n",
    "    SELECT genre, MAX(tot_rating_by_genre) AS max_tot_rating_by_genre\n",
    "    FROM aux1\n",
    "    GROUP BY genre\n",
    "    ORDER BY max_tot_rating_by_genre DESC\n",
    "\"\"\").show(genre_count)"
   ]
  },
  {
   "cell_type": "markdown",
   "id": "f21672a0-d42a-45f3-814c-6e3052c0114e",
   "metadata": {},
   "source": [
    "### [Preliminary] Best actors by rating (cumulative) for each genre."
   ]
  },
  {
   "cell_type": "code",
   "execution_count": 38,
   "id": "169d4342-b959-4246-b703-fc6eab503ca4",
   "metadata": {
    "tags": []
   },
   "outputs": [
    {
     "name": "stdout",
     "output_type": "stream",
     "text": [
      "\n",
      "182 rows in total\n",
      "+---------+-----------------+-------------------+-----------------------+\n",
      "|   genre1|            actor|tot_rating_by_genre|max_tot_rating_by_genre|\n",
      "+---------+-----------------+-------------------+-----------------------+\n",
      "|   Action|    Harrison Ford|              50.30|                  50.30|\n",
      "|Adventure|John Ratzenberger|              57.60|                  57.60|\n",
      "|Animation|John Ratzenberger|              57.60|                  57.60|\n",
      "|Biography|     Ben Kingsley|              17.00|                  17.00|\n",
      "|   Comedy|John Ratzenberger|              49.20|                  49.20|\n",
      "+---------+-----------------+-------------------+-----------------------+\n",
      "only showing top 5 rows\n",
      "\n"
     ]
    }
   ],
   "source": [
    "# Best actors by rating (cumulative) for each genre\n",
    "aux2 = spark.sql(\"\"\"\n",
    "    SELECT t3.genre1, t3.actor, t3.tot_rating_by_genre, t3.max_tot_rating_by_genre\n",
    "    FROM\n",
    "    (SELECT *\n",
    "    FROM \n",
    "        (SELECT join5.genre AS genre1, actor, CAST(SUM(rating) AS DECIMAL(5,2)) AS tot_rating_by_genre\n",
    "        FROM join5\n",
    "        GROUP BY genre, actor\n",
    "        ORDER BY tot_rating_by_genre DESC) t1\n",
    "    INNER JOIN\n",
    "        (SELECT aux1.genre AS genre2, MAX(tot_rating_by_genre) AS max_tot_rating_by_genre\n",
    "        FROM aux1\n",
    "        GROUP BY genre) t2\n",
    "    ON t1.genre1 = t2.genre2) t3\n",
    "    WHERE t3.tot_rating_by_genre = t3.max_tot_rating_by_genre\n",
    "    ORDER BY t3.genre1, t3.tot_rating_by_genre DESC\n",
    "\"\"\")\n",
    "\n",
    "# Display\n",
    "print(f'\\n{aux2.count()} rows in total')\n",
    "aux2.show(5)"
   ]
  },
  {
   "cell_type": "code",
   "execution_count": 39,
   "id": "d2305955-ab11-4021-b415-41a281a404e4",
   "metadata": {},
   "outputs": [],
   "source": [
    "# Create # Create temporary view of aux to run queries\n",
    "aux2.createOrReplaceTempView('aux2')"
   ]
  },
  {
   "cell_type": "markdown",
   "id": "a6a86b6e-0203-42e5-99b9-abe3480c6572",
   "metadata": {},
   "source": [
    "***We can see there are several ties (182) with the current metric, thus, we will try to incorporate the popularity score into the mix.***"
   ]
  },
  {
   "cell_type": "markdown",
   "id": "f363943e-38a5-43eb-8d0a-194e3c4bd073",
   "metadata": {},
   "source": [
    "Let us define the following custom metric M:  \n",
    "\n",
    "$$M = \\frac{(\\text{total rating})*(3975 - \\text{average popularity})}{1975} $$"
   ]
  },
  {
   "cell_type": "code",
   "execution_count": 40,
   "id": "d82a5e79-d602-4f7d-ac36-886c3282fbd2",
   "metadata": {},
   "outputs": [
    {
     "name": "stdout",
     "output_type": "stream",
     "text": [
      "\n",
      "10102 rows in total\n",
      "+------+--------------+------+-------------------+--------------+\n",
      "|genre1|         actor|metric|tot_rating_by_genre|avg_popularity|\n",
      "+------+--------------+------+-------------------+--------------+\n",
      "|Action| Harrison Ford| 89.28|              50.30|        469.50|\n",
      "|Action| Orlando Bloom| 65.89|              34.70|        224.50|\n",
      "|Action| Michael Caine| 64.40|              34.40|        277.75|\n",
      "|Action|   Gary Oldman| 63.21|              34.10|        314.00|\n",
      "|Action|Christian Bale| 62.40|              33.70|        318.00|\n",
      "+------+--------------+------+-------------------+--------------+\n",
      "only showing top 5 rows\n",
      "\n"
     ]
    }
   ],
   "source": [
    "# Custom metric for actors by genre\n",
    "aux3 = spark.sql(\"\"\"\n",
    "    SELECT \n",
    "        join5.genre AS genre1, \n",
    "        actor,\n",
    "        CAST( SUM(rating) * (-AVG(popularity) + 3975) / 1975 AS DECIMAL(5,2)) AS metric,\n",
    "        CAST(SUM(rating) AS DECIMAL(5,2)) AS tot_rating_by_genre, \n",
    "        CAST(AVG(popularity) AS DECIMAL(7,2)) AS avg_popularity\n",
    "    FROM join5\n",
    "    GROUP BY genre1, actor\n",
    "    ORDER BY genre1, metric DESC\n",
    "\"\"\")\n",
    "\n",
    "# Display\n",
    "print(f'\\n{aux3.count()} rows in total')\n",
    "aux3.show(5)"
   ]
  },
  {
   "cell_type": "code",
   "execution_count": 41,
   "id": "226c1fbf-99a9-4a42-b93d-532d3214780c",
   "metadata": {},
   "outputs": [],
   "source": [
    "# Create temporary view\n",
    "aux3.createOrReplaceTempView('aux3')  "
   ]
  },
  {
   "cell_type": "markdown",
   "id": "d4c16f14-ee2e-403f-a601-9cc9134d65d2",
   "metadata": {},
   "source": [
    "### [Preliminary] Best actors for each genre."
   ]
  },
  {
   "cell_type": "code",
   "execution_count": 42,
   "id": "1852de11-3708-422f-812c-d53b654910cd",
   "metadata": {
    "scrolled": true,
    "tags": []
   },
   "outputs": [
    {
     "name": "stdout",
     "output_type": "stream",
     "text": [
      "\n",
      "120 rows in total\n",
      "+---------+-----------------+----------+\n",
      "|   genre3|            actor|max_metric|\n",
      "+---------+-----------------+----------+\n",
      "|   Action|    Harrison Ford|     89.28|\n",
      "|Adventure|John Ratzenberger|     89.35|\n",
      "|Animation|John Ratzenberger|     89.35|\n",
      "|Biography|       P.J. Byrne|     31.80|\n",
      "|   Comedy|John Ratzenberger|     76.15|\n",
      "+---------+-----------------+----------+\n",
      "only showing top 5 rows\n",
      "\n"
     ]
    }
   ],
   "source": [
    "# Best actors for each genre - multiple ties!\n",
    "aux4 = spark.sql(\"\"\"\n",
    "    SELECT st1.genre2 AS genre3, aux3.actor, st1.max_metric\n",
    "    FROM\n",
    "    (SELECT genre1 AS genre2, MAX(metric) AS max_metric\n",
    "    FROM aux3\n",
    "    GROUP BY genre2) st1\n",
    "    INNER JOIN aux3\n",
    "    ON st1.genre2 = aux3.genre1 \n",
    "    WHERE st1.max_metric = aux3.metric\n",
    "    ORDER BY st1.genre2, aux3.metric DESC\n",
    "\"\"\")\n",
    "\n",
    "# Display\n",
    "print(f'\\n{aux4.count()} rows in total')\n",
    "aux4.show(5)"
   ]
  },
  {
   "cell_type": "code",
   "execution_count": 43,
   "id": "df5b54e3-f280-4f55-9c56-7935f22dc565",
   "metadata": {},
   "outputs": [],
   "source": [
    "# Create temporary view\n",
    "aux4.createOrReplaceTempView('aux4')  "
   ]
  },
  {
   "cell_type": "markdown",
   "id": "56ace722-0f17-4e72-83ed-6f579b2b4352",
   "metadata": {},
   "source": [
    "### The data is not big enough to separate the actors' statistics for some of the genres!  \n",
    "**Therefore, we settle ties in such categories sorting by inverse alphabetical order and picking one representative.**"
   ]
  },
  {
   "cell_type": "markdown",
   "id": "2e0085c6-3a9e-4766-bbcc-8ee632ef74d8",
   "metadata": {},
   "source": [
    "## BQ8. [Solution 1]"
   ]
  },
  {
   "cell_type": "code",
   "execution_count": 44,
   "id": "91f8e7ba-5d37-4df2-a00b-1cdbb2bbc97b",
   "metadata": {},
   "outputs": [
    {
     "name": "stdout",
     "output_type": "stream",
     "text": [
      "+---------+------------------+\n",
      "|   genre3|        best_actor|\n",
      "+---------+------------------+\n",
      "|   Action|     Harrison Ford|\n",
      "|Adventure| John Ratzenberger|\n",
      "|Animation| John Ratzenberger|\n",
      "|Biography|        P.J. Byrne|\n",
      "|   Comedy| John Ratzenberger|\n",
      "|    Crime|    Robert De Niro|\n",
      "|    Drama|    Robert De Niro|\n",
      "|   Family|         Yô Ôizumi|\n",
      "|  Fantasy|      Peter Mayhew|\n",
      "|Film-Noir|Wilfrid Hyde-White|\n",
      "|  History|      Ben Kingsley|\n",
      "|   Horror|      Yaphet Kotto|\n",
      "|    Music|     Tyler Kimball|\n",
      "|  Musical|         Sue Allen|\n",
      "|  Mystery|      Kevin Spacey|\n",
      "|  Romance|       Clark Gable|\n",
      "|   Sci-Fi|     Michael Caine|\n",
      "|    Sport|      Thayer David|\n",
      "| Thriller|      Brett Cullen|\n",
      "|      War|        Vin Diesel|\n",
      "|  Western|    Clint Eastwood|\n",
      "+---------+------------------+\n",
      "\n"
     ]
    }
   ],
   "source": [
    "# Solution [Part 1] - Best actor for each genre\n",
    "spark.sql(\"\"\"\n",
    "    SELECT genre3, MAX(actor) as best_actor\n",
    "    FROM aux4\n",
    "    GROUP BY genre3\n",
    "\"\"\").show(genre_count)"
   ]
  },
  {
   "cell_type": "markdown",
   "id": "aa59a355-4f91-4203-8fc7-ede7048b48e0",
   "metadata": {
    "tags": []
   },
   "source": [
    "## BQ8. [Part 2] Best directors for each genre."
   ]
  },
  {
   "cell_type": "code",
   "execution_count": 45,
   "id": "9aeb53ce-8edc-4d74-9344-e6dde33b07ec",
   "metadata": {},
   "outputs": [
    {
     "name": "stdout",
     "output_type": "stream",
     "text": [
      "\n",
      "702 rows in total\n",
      "+--------+--------------------+-----+--------------------+------+----------+\n",
      "|movie_id|               title|genre|            director|rating|popularity|\n",
      "+--------+--------------------+-----+--------------------+------+----------+\n",
      "|       1|The Shawshank Red...|Drama|      Frank Darabont|   9.3|        71|\n",
      "|       2|       The Godfather|Drama|Francis Ford Coppola|   9.2|        68|\n",
      "|       2|       The Godfather|Crime|Francis Ford Coppola|   9.2|        68|\n",
      "|       3|     The Dark Knight|Drama|   Christopher Nolan|   9.0|       107|\n",
      "|       3|     The Dark Knight|Crime|   Christopher Nolan|   9.0|       107|\n",
      "+--------+--------------------+-----+--------------------+------+----------+\n",
      "only showing top 5 rows\n",
      "\n"
     ]
    }
   ],
   "source": [
    "join6 = spark.sql(\"\"\"\n",
    "    SELECT m.movie_id, m.title, g.genre, d.director, m.rating, m.popularity\n",
    "    FROM t_movies m\n",
    "    INNER JOIN t_genres g\n",
    "    ON m.movie_id = g.movie_id\n",
    "    INNER JOIN t_directors d\n",
    "    ON m.movie_id = d.movie_id\n",
    "\"\"\")\n",
    "\n",
    "# Display\n",
    "print(f'\\n{join6.count()} rows in total')\n",
    "join6.show(5)"
   ]
  },
  {
   "cell_type": "code",
   "execution_count": 46,
   "id": "a63a56b7-b10d-4806-a1eb-28b01ced71fb",
   "metadata": {},
   "outputs": [],
   "source": [
    "# Create temporary view \n",
    "join6.createOrReplaceTempView('join6')  "
   ]
  },
  {
   "cell_type": "code",
   "execution_count": 47,
   "id": "69684bf1-f541-4837-a8d3-0754f3bca219",
   "metadata": {},
   "outputs": [
    {
     "name": "stdout",
     "output_type": "stream",
     "text": [
      "\n",
      "702 rows in total\n",
      "+--------+--------------------+------+----------+--------+-----+--------+--------------------+\n",
      "|movie_id|               title|rating|popularity|movie_id|genre|movie_id|            director|\n",
      "+--------+--------------------+------+----------+--------+-----+--------+--------------------+\n",
      "|       1|The Shawshank Red...|   9.3|        71|       1|Drama|       1|      Frank Darabont|\n",
      "|       2|       The Godfather|   9.2|        68|       2|Drama|       2|Francis Ford Coppola|\n",
      "|       2|       The Godfather|   9.2|        68|       2|Crime|       2|Francis Ford Coppola|\n",
      "|       3|     The Dark Knight|   9.0|       107|       3|Drama|       3|   Christopher Nolan|\n",
      "|       3|     The Dark Knight|   9.0|       107|       3|Crime|       3|   Christopher Nolan|\n",
      "+--------+--------------------+------+----------+--------+-----+--------+--------------------+\n",
      "only showing top 5 rows\n",
      "\n"
     ]
    }
   ],
   "source": [
    "join7 = spark.sql(\"\"\"\n",
    "    SELECT *\n",
    "    FROM t_movies m\n",
    "    INNER JOIN t_genres g\n",
    "    ON m.movie_id = g.movie_id\n",
    "    INNER JOIN t_directors d\n",
    "    ON m.movie_id = d.movie_id\n",
    "\"\"\")\n",
    "\n",
    "# Display\n",
    "print(f'\\n{join7.count()} rows in total')\n",
    "join7.show(5)"
   ]
  },
  {
   "cell_type": "code",
   "execution_count": 48,
   "id": "8c92d76f-4d64-4eb5-bf58-5182cefc5881",
   "metadata": {},
   "outputs": [],
   "source": [
    "# Create temporary view\n",
    "join7.createOrReplaceTempView('join7')  "
   ]
  },
  {
   "cell_type": "code",
   "execution_count": 49,
   "id": "36f4ea64-dc05-4a1a-90b2-6e8418c0c6e7",
   "metadata": {},
   "outputs": [
    {
     "name": "stdout",
     "output_type": "stream",
     "text": [
      "\n",
      "529 rows in total\n",
      "+-----+-----------------+-------------------+\n",
      "|genre|         director|tot_rating_by_genre|\n",
      "+-----+-----------------+-------------------+\n",
      "|Drama|   Akira Kurosawa|              58.10|\n",
      "|Drama|Christopher Nolan|              42.70|\n",
      "|Crime|  Martin Scorsese|              41.80|\n",
      "|Drama|  Charles Chaplin|              41.80|\n",
      "|Drama|  Martin Scorsese|              41.80|\n",
      "+-----+-----------------+-------------------+\n",
      "only showing top 5 rows\n",
      "\n"
     ]
    }
   ],
   "source": [
    "# Director' rating (cumulative) by genre\n",
    "auxx1 = spark.sql(\"\"\"\n",
    "    SELECT genre, director, CAST(SUM(rating) AS DECIMAL(5,2)) AS tot_rating_by_genre\n",
    "    FROM join7\n",
    "    GROUP BY genre, director\n",
    "    ORDER BY tot_rating_by_genre DESC\n",
    "\"\"\")\n",
    "\n",
    "# Display\n",
    "print(f'\\n{auxx1.count()} rows in total')\n",
    "auxx1.show(5)"
   ]
  },
  {
   "cell_type": "code",
   "execution_count": 50,
   "id": "a32aa1be-50a1-4053-8a4f-0163dbee6adf",
   "metadata": {},
   "outputs": [],
   "source": [
    "# Create temporary view\n",
    "auxx1.createOrReplaceTempView('auxx1')  "
   ]
  },
  {
   "cell_type": "code",
   "execution_count": 51,
   "id": "7821d8d1-c84b-4758-a3c9-074fb738f710",
   "metadata": {},
   "outputs": [
    {
     "name": "stdout",
     "output_type": "stream",
     "text": [
      "+---------+-----------------------+\n",
      "|    genre|max_tot_rating_by_genre|\n",
      "+---------+-----------------------+\n",
      "|    Drama|                  58.10|\n",
      "|   Comedy|                  41.80|\n",
      "|    Crime|                  41.80|\n",
      "|  Mystery|                  41.70|\n",
      "|   Action|                  34.40|\n",
      "| Thriller|                  33.50|\n",
      "|      War|                  33.20|\n",
      "|Animation|                  33.20|\n",
      "|Adventure|                  33.00|\n",
      "|   Sci-Fi|                  25.90|\n",
      "|  Western|                  25.50|\n",
      "|Biography|                  25.10|\n",
      "|   Family|                  24.90|\n",
      "|  Romance|                  17.00|\n",
      "|Film-Noir|                  16.70|\n",
      "|  History|                  16.50|\n",
      "|  Fantasy|                   8.70|\n",
      "|    Music|                   8.50|\n",
      "|   Horror|                   8.50|\n",
      "|  Musical|                   8.30|\n",
      "|    Sport|                   8.20|\n",
      "+---------+-----------------------+\n",
      "\n"
     ]
    }
   ],
   "source": [
    "# Best rating (cumulative) by genre\n",
    "spark.sql(\"\"\"\n",
    "    SELECT genre, MAX(tot_rating_by_genre) AS max_tot_rating_by_genre\n",
    "    FROM auxx1\n",
    "    GROUP BY genre\n",
    "    ORDER BY max_tot_rating_by_genre DESC\n",
    "\"\"\").show(genre_count)"
   ]
  },
  {
   "cell_type": "markdown",
   "id": "9c4cf0bb-f910-4aad-9ce8-6701da750000",
   "metadata": {},
   "source": [
    "### [Preliminary] Best directors by rating (cumulative) for each genre."
   ]
  },
  {
   "cell_type": "code",
   "execution_count": 52,
   "id": "d147b9e1-28a8-498e-88a7-57f8fe0451ce",
   "metadata": {
    "tags": []
   },
   "outputs": [
    {
     "name": "stdout",
     "output_type": "stream",
     "text": [
      "\n",
      "26 rows in total\n",
      "+---------+-----------------+-------------------+-----------------------+\n",
      "|   genre1|         director|tot_rating_by_genre|max_tot_rating_by_genre|\n",
      "+---------+-----------------+-------------------+-----------------------+\n",
      "|   Action|Christopher Nolan|              34.40|                  34.40|\n",
      "|Adventure|      Lee Unkrich|              33.00|                  33.00|\n",
      "|Animation|   Hayao Miyazaki|              33.20|                  33.20|\n",
      "|Biography|  Martin Scorsese|              25.10|                  25.10|\n",
      "|   Comedy|  Charles Chaplin|              41.80|                  41.80|\n",
      "|    Crime|  Martin Scorsese|              41.80|                  41.80|\n",
      "|    Drama|   Akira Kurosawa|              58.10|                  58.10|\n",
      "|   Family|   Hayao Miyazaki|              24.90|                  24.90|\n",
      "|  Fantasy|   Irvin Kershner|               8.70|                   8.70|\n",
      "|Film-Noir|     Billy Wilder|              16.70|                  16.70|\n",
      "|  History|       Mel Gibson|              16.50|                  16.50|\n",
      "|   Horror|     Ridley Scott|               8.50|                   8.50|\n",
      "|   Horror| Alfred Hitchcock|               8.50|                   8.50|\n",
      "|    Music|   Roman Polanski|               8.50|                   8.50|\n",
      "|    Music|  Damien Chazelle|               8.50|                   8.50|\n",
      "|  Musical|    Stanley Donen|               8.30|                   8.30|\n",
      "|  Musical|       Gene Kelly|               8.30|                   8.30|\n",
      "|  Mystery| Alfred Hitchcock|              41.70|                  41.70|\n",
      "|  Romance|  Charles Chaplin|              17.00|                  17.00|\n",
      "|   Sci-Fi|Christopher Nolan|              25.90|                  25.90|\n",
      "|    Sport| \"Gavin O'Connor\"|               8.20|                   8.20|\n",
      "|    Sport|     Majid Majidi|               8.20|                   8.20|\n",
      "|    Sport|  Martin Scorsese|               8.20|                   8.20|\n",
      "| Thriller| Alfred Hitchcock|              33.50|                  33.50|\n",
      "|      War|  Stanley Kubrick|              33.20|                  33.20|\n",
      "|  Western|     Sergio Leone|              25.50|                  25.50|\n",
      "+---------+-----------------+-------------------+-----------------------+\n",
      "\n"
     ]
    }
   ],
   "source": [
    "# Best directors by rating (cumulative) for each genre\n",
    "auxx2 = spark.sql(\"\"\"\n",
    "    SELECT t3.genre1, t3.director, t3.tot_rating_by_genre, t3.max_tot_rating_by_genre\n",
    "    FROM\n",
    "    (SELECT *\n",
    "    FROM \n",
    "        (SELECT join6.genre AS genre1, director, CAST(SUM(rating) AS DECIMAL(5,2)) AS tot_rating_by_genre\n",
    "        FROM join6\n",
    "        GROUP BY genre, director\n",
    "        ORDER BY tot_rating_by_genre DESC) t1\n",
    "    INNER JOIN\n",
    "        (SELECT auxx1.genre AS genre2, MAX(tot_rating_by_genre) AS max_tot_rating_by_genre\n",
    "        FROM auxx1\n",
    "        GROUP BY genre) t2\n",
    "    ON t1.genre1 = t2.genre2) t3\n",
    "    WHERE t3.tot_rating_by_genre = t3.max_tot_rating_by_genre\n",
    "    ORDER BY t3.genre1, t3.tot_rating_by_genre DESC\n",
    "\"\"\")\n",
    "\n",
    "# Display\n",
    "print(f'\\n{auxx2.count()} rows in total')\n",
    "auxx2.show(26)"
   ]
  },
  {
   "cell_type": "code",
   "execution_count": 53,
   "id": "72028289-8e34-4131-bd7c-b8cac21c6e1b",
   "metadata": {},
   "outputs": [],
   "source": [
    "# Create # Create temporary view of aux to run queries\n",
    "auxx2.createOrReplaceTempView('auxx2')"
   ]
  },
  {
   "cell_type": "markdown",
   "id": "3c033a6d-c367-4575-b496-9c87fea8f552",
   "metadata": {},
   "source": [
    "***We can see some ties (26) with the current metric, although it is significantly better than the case of the actors. In any case, we can still incorporate the popularity score into the mix by using our custom metric.***"
   ]
  },
  {
   "cell_type": "markdown",
   "id": "e1361f7a-9d0e-4a07-9142-94a9951aefb6",
   "metadata": {},
   "source": [
    "Recall that we defined our custom metric M as:  \n",
    "\n",
    "$$M = \\frac{(\\text{total rating})*(3975 - \\text{average popularity})}{1975} $$"
   ]
  },
  {
   "cell_type": "code",
   "execution_count": 54,
   "id": "c5d6e227-860f-4e04-81b7-a3d215bc5a74",
   "metadata": {},
   "outputs": [
    {
     "name": "stdout",
     "output_type": "stream",
     "text": [
      "\n",
      "529 rows in total\n",
      "+------+-----------------+------+-------------------+--------------+\n",
      "|genre1|         director|metric|tot_rating_by_genre|avg_popularity|\n",
      "+------+-----------------+------+-------------------+--------------+\n",
      "|Action|Christopher Nolan| 64.40|              34.40|        277.75|\n",
      "|Action|    Peter Jackson| 50.56|              26.60|        221.33|\n",
      "|Action| Steven Spielberg| 47.25|              24.80|        212.33|\n",
      "|Action|    James Cameron| 45.02|              25.10|        432.33|\n",
      "|Action|   Akira Kurosawa| 33.15|              25.00|       1356.33|\n",
      "+------+-----------------+------+-------------------+--------------+\n",
      "only showing top 5 rows\n",
      "\n"
     ]
    }
   ],
   "source": [
    "# Custom metric for directors by genre\n",
    "auxx3 = spark.sql(\"\"\"\n",
    "    SELECT \n",
    "        join6.genre AS genre1, \n",
    "        director,\n",
    "        CAST( SUM(rating) * (-AVG(popularity) + 3975) / 1975 AS DECIMAL(5,2)) AS metric,\n",
    "        CAST(SUM(rating) AS DECIMAL(5,2)) AS tot_rating_by_genre, \n",
    "        CAST(AVG(popularity) AS DECIMAL(7,2)) AS avg_popularity\n",
    "    FROM join6\n",
    "    GROUP BY genre1, director\n",
    "    ORDER BY genre1, metric DESC\n",
    "\"\"\")\n",
    "\n",
    "# Display\n",
    "print(f'\\n{auxx3.count()} rows in total')\n",
    "auxx3.show(5)"
   ]
  },
  {
   "cell_type": "code",
   "execution_count": 55,
   "id": "80d8b262-8b35-4e14-99da-04d8048278b5",
   "metadata": {},
   "outputs": [],
   "source": [
    "# Create temporary view\n",
    "auxx3.createOrReplaceTempView('auxx3')  "
   ]
  },
  {
   "cell_type": "markdown",
   "id": "d2965af8-6c6e-42d2-a1e8-1f1d1f72023e",
   "metadata": {},
   "source": [
    "## BQ8. [Solution 2]"
   ]
  },
  {
   "cell_type": "code",
   "execution_count": 56,
   "id": "885f0843-dd53-4ac8-ab6b-d6346fd2b404",
   "metadata": {
    "tags": []
   },
   "outputs": [
    {
     "name": "stdout",
     "output_type": "stream",
     "text": [
      "\n",
      "22 rows in total\n",
      "+---------+-----------------+----------+\n",
      "|   genre3|         director|max_metric|\n",
      "+---------+-----------------+----------+\n",
      "|   Action|Christopher Nolan|     64.40|\n",
      "|Adventure| Steven Spielberg|     61.28|\n",
      "|Animation|      Lee Unkrich|     49.70|\n",
      "|Biography|  Martin Scorsese|     45.04|\n",
      "|   Comedy|      Lee Unkrich|     49.70|\n",
      "|    Crime|  Martin Scorsese|     78.69|\n",
      "|    Drama|Christopher Nolan|     80.29|\n",
      "|   Family|   Hayao Miyazaki|     37.55|\n",
      "|  Fantasy|   Frank Darabont|     16.16|\n",
      "|Film-Noir|       Carol Reed|      9.83|\n",
      "|  History|       Mel Gibson|     30.54|\n",
      "|   Horror|     Ridley Scott|     15.95|\n",
      "|    Music|  Damien Chazelle|     16.37|\n",
      "|  Musical|       Gene Kelly|      9.25|\n",
      "|  Musical|    Stanley Donen|      9.25|\n",
      "|  Mystery| Alfred Hitchcock|     53.57|\n",
      "|  Romance|     Billy Wilder|     23.10|\n",
      "|   Sci-Fi|Christopher Nolan|     50.10|\n",
      "|    Sport| John G. Avildsen|     15.87|\n",
      "| Thriller| Alfred Hitchcock|     33.92|\n",
      "|      War|  Stanley Kubrick|     39.88|\n",
      "|  Western|     Sergio Leone|     34.39|\n",
      "+---------+-----------------+----------+\n",
      "\n"
     ]
    }
   ],
   "source": [
    "# Best directors for each genre - only one tie!\n",
    "auxx4 = spark.sql(\"\"\"\n",
    "    SELECT st1.genre2 AS genre3, auxx3.director, st1.max_metric\n",
    "    FROM\n",
    "    (SELECT genre1 AS genre2, MAX(metric) AS max_metric\n",
    "    FROM auxx3\n",
    "    GROUP BY genre2) st1\n",
    "    INNER JOIN auxx3\n",
    "    ON st1.genre2 = auxx3.genre1 \n",
    "    WHERE st1.max_metric = auxx3.metric\n",
    "    ORDER BY st1.genre2, auxx3.metric DESC\n",
    "\"\"\")\n",
    "\n",
    "# Display\n",
    "print(f'\\n{auxx4.count()} rows in total')\n",
    "auxx4.show(auxx4.count())"
   ]
  },
  {
   "cell_type": "code",
   "execution_count": 57,
   "id": "9ced6b2a-127e-4559-b38c-a6ced89ede07",
   "metadata": {},
   "outputs": [],
   "source": [
    "spark.stop()"
   ]
  }
 ],
 "metadata": {
  "kernelspec": {
   "display_name": "Python 3 (ipykernel)",
   "language": "python",
   "name": "python3"
  },
  "language_info": {
   "codemirror_mode": {
    "name": "ipython",
    "version": 3
   },
   "file_extension": ".py",
   "mimetype": "text/x-python",
   "name": "python",
   "nbconvert_exporter": "python",
   "pygments_lexer": "ipython3",
   "version": "3.10.5"
  }
 },
 "nbformat": 4,
 "nbformat_minor": 5
}
