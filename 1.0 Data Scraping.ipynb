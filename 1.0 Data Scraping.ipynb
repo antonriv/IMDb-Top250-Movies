{
 "cells": [
  {
   "cell_type": "markdown",
   "id": "a5196a02-dca2-418b-9c22-3728c2224eda",
   "metadata": {},
   "source": [
    "# Data Scraping"
   ]
  },
  {
   "cell_type": "markdown",
   "id": "bb9ca7c9-4e6d-403c-9d73-d5305ec305d2",
   "metadata": {},
   "source": [
    "Scraping publicly available data from the website https://www.imdb.com/chart/top/ for non-profit research purposes."
   ]
  },
  {
   "cell_type": "code",
   "execution_count": 1,
   "id": "feb90601-a2dc-4186-b01b-81eca333a31a",
   "metadata": {},
   "outputs": [],
   "source": [
    "# Libraries used\n",
    "from bs4 import BeautifulSoup\n",
    "import pandas as pd\n",
    "import requests\n",
    "import csv\n",
    "import random\n",
    "import utilities as utl"
   ]
  },
  {
   "cell_type": "markdown",
   "id": "f2768924-10a7-4785-bb6a-ee46a45e369f",
   "metadata": {},
   "source": [
    "Scrape movie *titles*, *ratings* and *popularity* scores. Proceed to store them in a csv file called **'movies.csv'**"
   ]
  },
  {
   "cell_type": "code",
   "execution_count": 2,
   "id": "ebf13afb-6033-46a6-ab15-6b3b59e26fa0",
   "metadata": {},
   "outputs": [],
   "source": [
    "utl.scrape_movies()"
   ]
  },
  {
   "cell_type": "markdown",
   "id": "cf608d98-0e6c-4aea-919c-a69ea4c1dfec",
   "metadata": {},
   "source": [
    "Scrape movie *genres* and store them in a csv file called **'genres.csv'**"
   ]
  },
  {
   "cell_type": "code",
   "execution_count": 2,
   "id": "f4d41449-78a8-461a-8b76-01160410990e",
   "metadata": {},
   "outputs": [],
   "source": [
    "utl.scrape_genres()"
   ]
  },
  {
   "cell_type": "markdown",
   "id": "3c3a4dfa-c390-4451-9209-35058eaf5c77",
   "metadata": {},
   "source": [
    "Scrape movie *actors* and store them in a csv file called **'actors.csv'**"
   ]
  },
  {
   "cell_type": "code",
   "execution_count": 2,
   "id": "bb6f4352-3b8d-49ee-a90c-2f8f51699b27",
   "metadata": {},
   "outputs": [],
   "source": [
    "utl.scrape_actors()"
   ]
  },
  {
   "cell_type": "markdown",
   "id": "ade1d952-fe7f-4bf4-9e50-b31624c65dee",
   "metadata": {},
   "source": [
    "Scrape movie *writers* and store them in a csv file called **'writers.csv'**"
   ]
  },
  {
   "cell_type": "code",
   "execution_count": 2,
   "id": "770a1512-ec1c-4f35-82ee-158245ce6094",
   "metadata": {},
   "outputs": [],
   "source": [
    "utl.scrape_writers()"
   ]
  },
  {
   "cell_type": "markdown",
   "id": "f9b8508a-1b24-444c-bce3-1ee9b9437c34",
   "metadata": {},
   "source": [
    "Scrape movie *directors* and store them in a csv file called **'directors.csv'**"
   ]
  },
  {
   "cell_type": "code",
   "execution_count": 2,
   "id": "20eb5a15-bd9d-45af-b304-c357cbae7044",
   "metadata": {},
   "outputs": [],
   "source": [
    "utl.scrape_directors()"
   ]
  },
  {
   "cell_type": "markdown",
   "id": "cff0b914-00ea-4735-b40e-4fdbf0fe7f14",
   "metadata": {},
   "source": [
    "Scrape movie *reviews* and store them in a csv file called **'reviews.csv'**"
   ]
  },
  {
   "cell_type": "code",
   "execution_count": 2,
   "id": "205146f1-1693-4252-83d7-25d9b0152bd2",
   "metadata": {},
   "outputs": [],
   "source": [
    "utl.scrape_reviews()"
   ]
  },
  {
   "cell_type": "markdown",
   "id": "e0a67df3-b9f8-46ed-a97a-09c486fc8e6b",
   "metadata": {},
   "source": [
    "Scrape movie *box office* and *budget*. Proceed to store them in a csv file called **'profits.csv'**"
   ]
  },
  {
   "cell_type": "code",
   "execution_count": 3,
   "id": "deb134f5-ea55-4189-9ba7-68e006d96145",
   "metadata": {
    "scrolled": true,
    "tags": []
   },
   "outputs": [],
   "source": [
    "utl.scrape_profits()"
   ]
  }
 ],
 "metadata": {
  "kernelspec": {
   "display_name": "Python 3 (ipykernel)",
   "language": "python",
   "name": "python3"
  },
  "language_info": {
   "codemirror_mode": {
    "name": "ipython",
    "version": 3
   },
   "file_extension": ".py",
   "mimetype": "text/x-python",
   "name": "python",
   "nbconvert_exporter": "python",
   "pygments_lexer": "ipython3",
   "version": "3.10.5"
  }
 },
 "nbformat": 4,
 "nbformat_minor": 5
}
