{
 "cells": [
  {
   "cell_type": "markdown",
   "id": "3207a9bb-2abd-430c-8d99-3e37d42b66c9",
   "metadata": {},
   "source": [
    "# Bussiness Questions"
   ]
  },
  {
   "cell_type": "markdown",
   "id": "9e01ca5e-f0b8-4401-a1c7-f4ad90839b42",
   "metadata": {},
   "source": [
    "Bussiness Questions (BQ) answered with the generated tables: \n",
    "\n",
    "\n",
    "**BQ9.** Most profitable actors and directors.  "
   ]
  },
  {
   "cell_type": "code",
   "execution_count": 1,
   "id": "9f2e3c47-12ed-420f-bcda-7533e785cc50",
   "metadata": {},
   "outputs": [],
   "source": [
    "# Libraries used\n",
    "import findspark\n",
    "findspark.init()\n",
    "\n",
    "import pyspark\n",
    "from pyspark.sql import SparkSession"
   ]
  },
  {
   "cell_type": "code",
   "execution_count": 2,
   "id": "f0546d67-71fa-4621-b9d2-86fbad1857cb",
   "metadata": {},
   "outputs": [],
   "source": [
    "# Create a Spark Session\n",
    "spark = SparkSession.builder.appName('Challenge').getOrCreate()"
   ]
  },
  {
   "cell_type": "markdown",
   "id": "58de42cc-1f00-46d8-8b97-ceb9ab0c2978",
   "metadata": {},
   "source": [
    "# Read Parquet tables into Spark Data Frames"
   ]
  },
  {
   "cell_type": "markdown",
   "id": "e7455dea-6b68-4028-b914-771caae9644f",
   "metadata": {},
   "source": [
    "### t_profits"
   ]
  },
  {
   "cell_type": "code",
   "execution_count": 3,
   "id": "80dc7996-a6b2-4647-9fde-d8c5db23772b",
   "metadata": {},
   "outputs": [
    {
     "name": "stdout",
     "output_type": "stream",
     "text": [
      "root\n",
      " |-- movie_id: string (nullable = true)\n",
      " |-- title: string (nullable = true)\n",
      " |-- year: string (nullable = true)\n",
      " |-- box_office_usd: integer (nullable = true)\n",
      " |-- budget_usd: integer (nullable = true)\n",
      " |-- inflation_factor_2023: double (nullable = true)\n",
      "\n",
      "+--------+--------------------+----+--------------+----------+---------------------+\n",
      "|movie_id|               title|year|box_office_usd|budget_usd|inflation_factor_2023|\n",
      "+--------+--------------------+----+--------------+----------+---------------------+\n",
      "|       1|The Shawshank Red...|1994|      28884504|  25000000|             2.030414|\n",
      "|       2|       The Godfather|1972|     250341816|   6000000|             7.183692|\n",
      "|       3|     The Dark Knight|2008|    1006234167| 185000000|             1.395895|\n",
      "|       4|The Godfather Par...|1974|      47961919|  13000000|             6.105467|\n",
      "|       5|        12 Angry Men|1957|           955|    350000|             10.64304|\n",
      "+--------+--------------------+----+--------------+----------+---------------------+\n",
      "only showing top 5 rows\n",
      "\n"
     ]
    }
   ],
   "source": [
    "# Read Parquet file into Data Frame\n",
    "t_profits = spark.read.option('header','true').parquet('master/t_profits.parquet')\n",
    "\n",
    "# Manually define Schema\n",
    "t_profits = t_profits.select(\n",
    "    t_profits.movie_id.cast('string'),\n",
    "    t_profits.title.cast('string'),\n",
    "    t_profits.year.cast('string'),\n",
    "    t_profits.box_office_usd.cast('int'),\n",
    "    t_profits.budget_usd.cast('int'),\n",
    "    t_profits.inflation_factor_2023.cast('double')\n",
    ")\n",
    "\n",
    "t_profits.printSchema()\n",
    "t_profits.show(5)"
   ]
  },
  {
   "cell_type": "code",
   "execution_count": 4,
   "id": "457892db-9a6b-4ee6-af64-6f9a221ab0a9",
   "metadata": {},
   "outputs": [
    {
     "name": "stdout",
     "output_type": "stream",
     "text": [
      "root\n",
      " |-- movie_id: long (nullable = true)\n",
      " |-- actor: string (nullable = true)\n",
      "\n",
      "+--------+--------------+\n",
      "|movie_id|         actor|\n",
      "+--------+--------------+\n",
      "|       1|   Tim Robbins|\n",
      "|       1|Morgan Freeman|\n",
      "|       1|    Bob Gunton|\n",
      "|       1|William Sadler|\n",
      "|       1|  Clancy Brown|\n",
      "+--------+--------------+\n",
      "only showing top 5 rows\n",
      "\n"
     ]
    }
   ],
   "source": [
    "# t_actors\n",
    "t_actors = spark.read.parquet('master/t_actors.parquet', header=True)\n",
    "\n",
    "t_actors.printSchema()\n",
    "t_actors.show(5)"
   ]
  },
  {
   "cell_type": "code",
   "execution_count": 5,
   "id": "732be779-1e3c-4255-a51f-4fe0bb196c99",
   "metadata": {},
   "outputs": [
    {
     "name": "stdout",
     "output_type": "stream",
     "text": [
      "root\n",
      " |-- movie_id: long (nullable = true)\n",
      " |-- director: string (nullable = true)\n",
      "\n",
      "+--------+--------------------+\n",
      "|movie_id|            director|\n",
      "+--------+--------------------+\n",
      "|       1|      Frank Darabont|\n",
      "|       2|Francis Ford Coppola|\n",
      "|       3|   Christopher Nolan|\n",
      "|       4|Francis Ford Coppola|\n",
      "|       5|        Sidney Lumet|\n",
      "+--------+--------------------+\n",
      "only showing top 5 rows\n",
      "\n"
     ]
    }
   ],
   "source": [
    "# t_directors\n",
    "t_directors = spark.read.parquet('master/t_directors.parquet', header=True)\n",
    "\n",
    "t_directors.printSchema()\n",
    "t_directors.show(5)"
   ]
  },
  {
   "cell_type": "code",
   "execution_count": 6,
   "id": "393447eb-7302-4eb3-b4a9-d0bf0657007e",
   "metadata": {},
   "outputs": [],
   "source": [
    "# Create views of the tables to run SQL queries\n",
    "t_profits.createOrReplaceTempView('t_profits') \n",
    "t_actors.createOrReplaceTempView('t_actors') \n",
    "t_directors.createOrReplaceTempView('t_directors')"
   ]
  },
  {
   "cell_type": "markdown",
   "id": "d9a060a8-0667-4fec-a005-57330ba6525a",
   "metadata": {
    "tags": []
   },
   "source": [
    "## Join t_profits & t_actors."
   ]
  },
  {
   "cell_type": "code",
   "execution_count": 7,
   "id": "8ca97571-5751-47a9-ae13-2ecddab82dd9",
   "metadata": {},
   "outputs": [
    {
     "name": "stdout",
     "output_type": "stream",
     "text": [
      "\n",
      "3944 rows in total\n",
      "+--------+--------------------+----+--------------+----------+---------------------+--------------+\n",
      "|movie_id|               title|year|box_office_usd|budget_usd|inflation_factor_2023|         actor|\n",
      "+--------+--------------------+----+--------------+----------+---------------------+--------------+\n",
      "|       1|The Shawshank Red...|1994|      28884504|  25000000|             2.030414|   Tim Robbins|\n",
      "|       1|The Shawshank Red...|1994|      28884504|  25000000|             2.030414|Morgan Freeman|\n",
      "|       1|The Shawshank Red...|1994|      28884504|  25000000|             2.030414|    Bob Gunton|\n",
      "|       1|The Shawshank Red...|1994|      28884504|  25000000|             2.030414|William Sadler|\n",
      "|       1|The Shawshank Red...|1994|      28884504|  25000000|             2.030414|  Clancy Brown|\n",
      "+--------+--------------------+----+--------------+----------+---------------------+--------------+\n",
      "only showing top 5 rows\n",
      "\n"
     ]
    }
   ],
   "source": [
    "profits_actors = spark.sql(\"\"\"\n",
    "    SELECT \n",
    "        p.movie_id,\n",
    "        p.title,\n",
    "        p.year,\n",
    "        p.box_office_usd,\n",
    "        p.budget_usd,\n",
    "        p.inflation_factor_2023,\n",
    "        a.actor\n",
    "    FROM t_profits p\n",
    "    INNER JOIN t_actors a\n",
    "    ON p.movie_id = a.movie_id\n",
    "\"\"\")\n",
    "\n",
    "# Display\n",
    "print(f'\\n{profits_actors.count()} rows in total')\n",
    "profits_actors.show(5)"
   ]
  },
  {
   "cell_type": "code",
   "execution_count": 8,
   "id": "ee03a426-54fa-4b77-846c-2b587adb97b2",
   "metadata": {},
   "outputs": [],
   "source": [
    "# Create temporary view of join to run queries\n",
    "profits_actors.createOrReplaceTempView('profits_actors')  "
   ]
  },
  {
   "cell_type": "markdown",
   "id": "2727cf48-1578-456b-a7f8-a116b311e0e7",
   "metadata": {},
   "source": [
    "## BQ9. [Part 1] Most profitable actors.\n",
    "### By average profit, and at least 3 appearances in the Top-250 IMDb movies."
   ]
  },
  {
   "cell_type": "code",
   "execution_count": 9,
   "id": "d9f76e9f-599e-404f-a665-e7fd6c612c5f",
   "metadata": {},
   "outputs": [
    {
     "name": "stdout",
     "output_type": "stream",
     "text": [
      "\n",
      "*In millions of dollars\n",
      "\n",
      "+---------------+----------+------------------+--------------+-----------+\n",
      "|          actor|avg_profit|avg_box_office_usd|avg_budget_usd|movie_count|\n",
      "+---------------+----------+------------------+--------------+-----------+\n",
      "| Cate Blanchett|     903.9|             997.5|          93.7|          3|\n",
      "|     Sean Astin|     903.9|             997.5|          93.7|          3|\n",
      "|     Billy Boyd|     903.9|             997.5|          93.7|          3|\n",
      "|   Ian McKellen|     903.9|             997.5|          93.7|          3|\n",
      "|Viggo Mortensen|     752.6|             828.6|          76.0|          4|\n",
      "|    Elijah Wood|     691.4|             766.7|          75.3|          4|\n",
      "|   Willem Dafoe|     686.3|             763.8|          77.5|          4|\n",
      "|  Orlando Bloom|     677.4|             748.3|          70.9|          4|\n",
      "|   Bob Peterson|     579.2|             723.9|         144.7|          3|\n",
      "|   David Prowse|     575.8|             596.3|          20.5|          3|\n",
      "+---------------+----------+------------------+--------------+-----------+\n",
      "only showing top 10 rows\n",
      "\n"
     ]
    }
   ],
   "source": [
    "# Most profitable actors, by average profit and at least 3 appearances in the Top-250 IMDb movies\n",
    "print('\\n*In millions of dollars\\n')\n",
    "spark.sql(\"\"\"\n",
    "    SELECT \n",
    "        actor, \n",
    "        CAST((AVG(box_office_usd) - AVG(budget_usd)) / 1000000 AS DECIMAL(5,1)) AS avg_profit,\n",
    "        CAST(AVG(box_office_usd) / 1000000 AS DECIMAL(5,1)) AS avg_box_office_usd,\n",
    "        CAST(AVG(budget_usd) / 1000000 AS DECIMAL(5,1)) AS avg_budget_usd,\n",
    "        COUNT(title) AS movie_count\n",
    "    FROM profits_actors\n",
    "    GROUP BY actor\n",
    "    HAVING movie_count >= 3\n",
    "    ORDER BY avg_profit DESC\n",
    "\"\"\").show(10)"
   ]
  },
  {
   "cell_type": "markdown",
   "id": "ae33dd44-8f19-4ea8-b62c-2d464d0589e2",
   "metadata": {},
   "source": [
    "### Conclusion 1\n",
    "We can see that members from the cast of the Lord of the Rings saga dominate this ranking!"
   ]
  },
  {
   "cell_type": "markdown",
   "id": "19ec101d-37f6-4f9e-9098-962436a99524",
   "metadata": {},
   "source": [
    "## Adjust amounts for inflation"
   ]
  },
  {
   "cell_type": "code",
   "execution_count": 10,
   "id": "226413f8-eeb8-4869-8b5c-2204143ef8d0",
   "metadata": {},
   "outputs": [
    {
     "name": "stdout",
     "output_type": "stream",
     "text": [
      "\n",
      "*In millions of dollars\n",
      "\n",
      "3944 rows in total\n",
      "+--------+--------------------+----+----------------+------------+--------------+\n",
      "|movie_id|               title|year|box_office_usd_i|budget_usd_i|         actor|\n",
      "+--------+--------------------+----+----------------+------------+--------------+\n",
      "|       1|The Shawshank Red...|1994|        58647501|    50760350|   Tim Robbins|\n",
      "|       1|The Shawshank Red...|1994|        58647501|    50760350|Morgan Freeman|\n",
      "|       1|The Shawshank Red...|1994|        58647501|    50760350|    Bob Gunton|\n",
      "|       1|The Shawshank Red...|1994|        58647501|    50760350|William Sadler|\n",
      "|       1|The Shawshank Red...|1994|        58647501|    50760350|  Clancy Brown|\n",
      "+--------+--------------------+----+----------------+------------+--------------+\n",
      "only showing top 5 rows\n",
      "\n"
     ]
    }
   ],
   "source": [
    "# Most profitable actors, by average profit and at least 3 appearances in the Top-250 IMDb movies\n",
    "print('\\n*In millions of dollars')\n",
    "profits_actors_i = spark.sql(\"\"\"\n",
    "    SELECT \n",
    "        movie_id,\n",
    "        title,\n",
    "        year,\n",
    "        CAST(box_office_usd * inflation_factor_2023 AS int) AS box_office_usd_i,\n",
    "        CAST(budget_usd * inflation_factor_2023 AS int) AS budget_usd_i,\n",
    "        actor\n",
    "    FROM profits_actors\n",
    "\"\"\")\n",
    "# Display\n",
    "print(f'\\n{profits_actors_i.count()} rows in total')\n",
    "profits_actors_i.show(5)"
   ]
  },
  {
   "cell_type": "code",
   "execution_count": 11,
   "id": "931a22ab-fae9-4e50-b695-4bc190738710",
   "metadata": {},
   "outputs": [],
   "source": [
    "# Create temporary view of join to run queries\n",
    "profits_actors_i.createOrReplaceTempView('profits_actors_i')  "
   ]
  },
  {
   "cell_type": "markdown",
   "id": "2779de29-651c-439c-b03c-d1bf6ba71d34",
   "metadata": {},
   "source": [
    "## BQ9. [Part 2] Most profitable actors (adjusted for inflation)\n",
    "### By average profit, and at least 3 appearances in the Top-250 IMDb movies."
   ]
  },
  {
   "cell_type": "code",
   "execution_count": 12,
   "id": "6aece474-5526-4972-b5f2-0b53e15dd3d2",
   "metadata": {},
   "outputs": [
    {
     "name": "stdout",
     "output_type": "stream",
     "text": [
      "\n",
      "*In millions of dollars\n",
      "\n",
      "+---------------+------------+--------------------+----------------+-----------+\n",
      "|          actor|avg_profit_i|avg_box_office_usd_i|avg_budget_usd_i|movie_count|\n",
      "+---------------+------------+--------------------+----------------+-----------+\n",
      "|   Peter Mayhew|      1777.9|              1850.8|            72.9|          3|\n",
      "|   David Prowse|      1777.9|              1850.8|            72.9|          3|\n",
      "|    Mark Hamill|      1777.9|              1850.8|            72.9|          3|\n",
      "|  Carrie Fisher|      1777.9|              1850.8|            72.9|          3|\n",
      "|Anthony Daniels|      1777.9|              1850.8|            72.9|          3|\n",
      "|     Billy Boyd|      1503.9|              1660.0|           156.1|          3|\n",
      "|     Sean Astin|      1503.9|              1660.0|           156.1|          3|\n",
      "|   Ian McKellen|      1503.9|              1660.0|           156.1|          3|\n",
      "| Cate Blanchett|      1503.9|              1660.0|           156.1|          3|\n",
      "|    Kenny Baker|      1358.3|              1426.1|            67.8|          4|\n",
      "+---------------+------------+--------------------+----------------+-----------+\n",
      "only showing top 10 rows\n",
      "\n"
     ]
    }
   ],
   "source": [
    "# Most profitable actors, by average profit and at least 3 appearances in the Top-250 IMDb movies\n",
    "print('\\n*In millions of dollars\\n')\n",
    "spark.sql(\"\"\"\n",
    "    SELECT \n",
    "        actor, \n",
    "        CAST((AVG(box_office_usd_i) - AVG(budget_usd_i)) / 1000000 AS DECIMAL(5,1)) AS avg_profit_i,\n",
    "        CAST(AVG(box_office_usd_i) / 1000000 AS DECIMAL(5,1)) AS avg_box_office_usd_i,\n",
    "        CAST(AVG(budget_usd_i) / 1000000 AS DECIMAL(5,1)) AS avg_budget_usd_i,\n",
    "        COUNT(title) AS movie_count\n",
    "    FROM profits_actors_i\n",
    "    GROUP BY actor\n",
    "    HAVING movie_count >= 3\n",
    "    ORDER BY avg_profit_i DESC\n",
    "\"\"\").show(10)"
   ]
  },
  {
   "cell_type": "markdown",
   "id": "cfa58a3c-bc47-4914-bc55-1b37f8dad04c",
   "metadata": {},
   "source": [
    "### Conclusion 2\n",
    "We can see that in contrast to the previous approach, now members from the cast of the Star Wars saga dominate the ranking! Followed by the members from the cast of the Lord of the Rings saga."
   ]
  },
  {
   "cell_type": "markdown",
   "id": "551fc4f2-8e7c-44ee-b7cb-9ceb6389183f",
   "metadata": {
    "tags": []
   },
   "source": [
    "## Join t_profits & t_directors."
   ]
  },
  {
   "cell_type": "code",
   "execution_count": 13,
   "id": "85bb56b7-da07-4ae6-ada4-cb3ecb186a2f",
   "metadata": {},
   "outputs": [
    {
     "name": "stdout",
     "output_type": "stream",
     "text": [
      "\n",
      "251 rows in total\n",
      "+--------+--------------------+----+--------------+----------+---------------------+--------------------+\n",
      "|movie_id|               title|year|box_office_usd|budget_usd|inflation_factor_2023|            director|\n",
      "+--------+--------------------+----+--------------+----------+---------------------+--------------------+\n",
      "|       1|The Shawshank Red...|1994|      28884504|  25000000|             2.030414|      Frank Darabont|\n",
      "|       2|       The Godfather|1972|     250341816|   6000000|             7.183692|Francis Ford Coppola|\n",
      "|       3|     The Dark Knight|2008|    1006234167| 185000000|             1.395895|   Christopher Nolan|\n",
      "|       4|The Godfather Par...|1974|      47961919|  13000000|             6.105467|Francis Ford Coppola|\n",
      "|       5|        12 Angry Men|1957|           955|    350000|             10.64304|        Sidney Lumet|\n",
      "+--------+--------------------+----+--------------+----------+---------------------+--------------------+\n",
      "only showing top 5 rows\n",
      "\n"
     ]
    }
   ],
   "source": [
    "profits_directors = spark.sql(\"\"\"\n",
    "    SELECT \n",
    "        p.movie_id,\n",
    "        p.title,\n",
    "        p.year,\n",
    "        p.box_office_usd,\n",
    "        p.budget_usd,\n",
    "        p.inflation_factor_2023,\n",
    "        d.director\n",
    "    FROM t_profits p\n",
    "    INNER JOIN t_directors d\n",
    "    ON p.movie_id = d.movie_id\n",
    "\"\"\")\n",
    "\n",
    "# Display\n",
    "print(f'\\n{profits_directors.count()} rows in total')\n",
    "profits_directors.show(5)"
   ]
  },
  {
   "cell_type": "code",
   "execution_count": 14,
   "id": "88b18540-a033-4977-960d-1a60f1a1273e",
   "metadata": {},
   "outputs": [],
   "source": [
    "# Create temporary view of join to run queries\n",
    "profits_directors.createOrReplaceTempView('profits_directors')  "
   ]
  },
  {
   "cell_type": "markdown",
   "id": "48f10843-b4c9-46f0-a1ff-ddcf21caf272",
   "metadata": {},
   "source": [
    "## BQ9. [Part 3] Most profitable directors.\n",
    "### By average profit, and at least 3 appearances in the Top-250 IMDb movies."
   ]
  },
  {
   "cell_type": "code",
   "execution_count": 15,
   "id": "3683a19e-c5e0-4e73-a6b7-f6e1fb1c85e4",
   "metadata": {},
   "outputs": [
    {
     "name": "stdout",
     "output_type": "stream",
     "text": [
      "\n",
      "*In millions of dollars\n",
      "\n",
      "+-----------------+----------+------------------+--------------+-----------+\n",
      "|         director|avg_profit|avg_box_office_usd|avg_budget_usd|movie_count|\n",
      "+-----------------+----------+------------------+--------------+-----------+\n",
      "|    Peter Jackson|     903.9|             997.5|          93.7|          3|\n",
      "|      Lee Unkrich|     671.0|             829.5|         158.5|          4|\n",
      "|Christopher Nolan|     466.0|             603.0|         137.0|          7|\n",
      "| Steven Spielberg|     435.6|             484.1|          48.5|          7|\n",
      "|    James Cameron|     351.2|             423.7|          72.5|          3|\n",
      "|      Pete Docter|     296.2|             410.0|         113.8|          3|\n",
      "|   Hayao Miyazaki|     189.6|             207.7|          18.1|          4|\n",
      "|Quentin Tarantino|     187.2|             229.1|          41.8|          5|\n",
      "|   Clint Eastwood|     166.2|             190.6|          24.5|          3|\n",
      "|     Ridley Scott|     165.4|             203.5|          38.1|          3|\n",
      "+-----------------+----------+------------------+--------------+-----------+\n",
      "only showing top 10 rows\n",
      "\n"
     ]
    }
   ],
   "source": [
    "# Most profitable actors, by average profit and at least 3 appearances in the Top-250 IMDb movies\n",
    "print('\\n*In millions of dollars\\n')\n",
    "spark.sql(\"\"\"\n",
    "    SELECT \n",
    "        director, \n",
    "        CAST((AVG(box_office_usd) - AVG(budget_usd)) / 1000000 AS DECIMAL(5,1)) AS avg_profit,\n",
    "        CAST(AVG(box_office_usd) / 1000000 AS DECIMAL(5,1)) AS avg_box_office_usd,\n",
    "        CAST(AVG(budget_usd) / 1000000 AS DECIMAL(5,1)) AS avg_budget_usd,\n",
    "        COUNT(title) AS movie_count\n",
    "    FROM profits_directors\n",
    "    GROUP BY director\n",
    "    HAVING movie_count >= 3\n",
    "    ORDER BY avg_profit DESC\n",
    "\"\"\").show(10)"
   ]
  },
  {
   "cell_type": "markdown",
   "id": "5bda11da-5e45-4694-9f09-b4ef06264edf",
   "metadata": {},
   "source": [
    "### Conclusion 3\n",
    "Peter Jackson from the Lord of the Rings saga holds an impressive return of investment! Followed by animated film director Lee Unkrich."
   ]
  },
  {
   "cell_type": "markdown",
   "id": "c1ca0159-6cbf-4045-8421-64877f6bc08d",
   "metadata": {},
   "source": [
    "## Adjust amounts for inflation"
   ]
  },
  {
   "cell_type": "code",
   "execution_count": 16,
   "id": "4bd498fe-2257-4965-96b8-1187b1eb4c44",
   "metadata": {},
   "outputs": [
    {
     "name": "stdout",
     "output_type": "stream",
     "text": [
      "\n",
      "*In millions of dollars\n",
      "\n",
      "251 rows in total\n",
      "+--------+--------------------+----+----------------+------------+--------------------+\n",
      "|movie_id|               title|year|box_office_usd_i|budget_usd_i|            director|\n",
      "+--------+--------------------+----+----------------+------------+--------------------+\n",
      "|       1|The Shawshank Red...|1994|        58647501|    50760350|      Frank Darabont|\n",
      "|       2|       The Godfather|1972|      1798378500|    43102152|Francis Ford Coppola|\n",
      "|       3|     The Dark Knight|2008|      1404597242|   258240575|   Christopher Nolan|\n",
      "|       4|The Godfather Par...|1974|       292829913|    79371071|Francis Ford Coppola|\n",
      "|       5|        12 Angry Men|1957|           10164|     3725063|        Sidney Lumet|\n",
      "+--------+--------------------+----+----------------+------------+--------------------+\n",
      "only showing top 5 rows\n",
      "\n"
     ]
    }
   ],
   "source": [
    "# Most profitable directors, by average profit and at least 3 appearances in the Top-250 IMDb movies\n",
    "print('\\n*In millions of dollars')\n",
    "profits_directors_i = spark.sql(\"\"\"\n",
    "    SELECT \n",
    "        movie_id,\n",
    "        title,\n",
    "        year,\n",
    "        CAST(box_office_usd * inflation_factor_2023 AS int) AS box_office_usd_i,\n",
    "        CAST(budget_usd * inflation_factor_2023 AS int) AS budget_usd_i,\n",
    "        director\n",
    "    FROM profits_directors\n",
    "\"\"\")\n",
    "\n",
    "# Display\n",
    "print(f'\\n{profits_directors_i.count()} rows in total')\n",
    "profits_directors_i.show(5)"
   ]
  },
  {
   "cell_type": "code",
   "execution_count": 17,
   "id": "a9a3fc80-b958-4842-84af-827b2ffe6bfb",
   "metadata": {},
   "outputs": [],
   "source": [
    "# Create temporary view of join to run queries\n",
    "profits_directors_i.createOrReplaceTempView('profits_directors_i')  "
   ]
  },
  {
   "cell_type": "markdown",
   "id": "e822fdec-a933-42ce-a241-8bc8deaded76",
   "metadata": {},
   "source": [
    "## BQ9. [Part 4] Most profitable directors (adjusted for inflation)\n",
    "### By average profit, and at least 3 appearances in the Top-250 IMDb movies."
   ]
  },
  {
   "cell_type": "code",
   "execution_count": 18,
   "id": "2ff76dea-bd40-4c5a-a3de-79f3224416a3",
   "metadata": {},
   "outputs": [
    {
     "name": "stdout",
     "output_type": "stream",
     "text": [
      "\n",
      "*In millions of dollars\n",
      "\n",
      "+--------------------+------------+--------------------+----------------+-----------+\n",
      "|            director|avg_profit_i|avg_box_office_usd_i|avg_budget_usd_i|movie_count|\n",
      "+--------------------+------------+--------------------+----------------+-----------+\n",
      "|       Peter Jackson|      1503.9|              1660.0|           156.1|          3|\n",
      "|         Lee Unkrich|       952.0|              1169.0|           217.0|          4|\n",
      "|    Steven Spielberg|       932.2|              1030.4|            98.2|          7|\n",
      "|Francis Ford Coppola|       757.0|               841.1|            84.1|          3|\n",
      "|   Christopher Nolan|       632.5|               820.8|           188.3|          7|\n",
      "|       James Cameron|       626.7|               758.7|           132.1|          3|\n",
      "|         Frank Capra|       515.8|               559.3|            43.5|          3|\n",
      "|         Pete Docter|       406.0|               567.9|           161.9|          3|\n",
      "|        Ridley Scott|       364.9|               440.2|            75.3|          3|\n",
      "|      Hayao Miyazaki|       308.5|               337.4|            28.9|          4|\n",
      "+--------------------+------------+--------------------+----------------+-----------+\n",
      "only showing top 10 rows\n",
      "\n"
     ]
    }
   ],
   "source": [
    "# Most profitable directors, by average profit and at least 3 appearances in the Top-250 IMDb movies\n",
    "print('\\n*In millions of dollars\\n')\n",
    "spark.sql(\"\"\"\n",
    "    SELECT \n",
    "        director, \n",
    "        CAST((AVG(box_office_usd_i) - AVG(budget_usd_i)) / 1000000 AS DECIMAL(5,1)) AS avg_profit_i,\n",
    "        CAST(AVG(box_office_usd_i) / 1000000 AS DECIMAL(5,1)) AS avg_box_office_usd_i,\n",
    "        CAST(AVG(budget_usd_i) / 1000000 AS DECIMAL(5,1)) AS avg_budget_usd_i,\n",
    "        COUNT(title) AS movie_count\n",
    "    FROM profits_directors_i\n",
    "    GROUP BY director\n",
    "    HAVING movie_count >= 3\n",
    "    ORDER BY avg_profit_i DESC\n",
    "\"\"\").show(10)"
   ]
  },
  {
   "cell_type": "markdown",
   "id": "0fde00ae-b8dc-4fb8-a676-f3acd7931613",
   "metadata": {},
   "source": [
    "### Conclusion 4\n",
    "Peter Jackson from the Lord of the Rings saga still holds an impressive return of investment when adjusting figures for inflation! Increasing his lead with respect to animated film director Lee Unkrich.  \n",
    "\n",
    "Notably, we can see a jump of Steven Spielberg in the ranking, which speaks about his historical influence in cinema! "
   ]
  },
  {
   "cell_type": "code",
   "execution_count": 19,
   "id": "47039811-1397-4674-a0a5-af178652b729",
   "metadata": {},
   "outputs": [],
   "source": [
    "spark.stop()"
   ]
  }
 ],
 "metadata": {
  "kernelspec": {
   "display_name": "Python 3 (ipykernel)",
   "language": "python",
   "name": "python3"
  },
  "language_info": {
   "codemirror_mode": {
    "name": "ipython",
    "version": 3
   },
   "file_extension": ".py",
   "mimetype": "text/x-python",
   "name": "python",
   "nbconvert_exporter": "python",
   "pygments_lexer": "ipython3",
   "version": "3.10.5"
  }
 },
 "nbformat": 4,
 "nbformat_minor": 5
}
